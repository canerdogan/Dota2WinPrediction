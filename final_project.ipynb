{
 "cells": [
  {
   "cell_type": "code",
   "execution_count": 1,
   "metadata": {},
   "outputs": [],
   "source": [
    "import numpy   as np\n",
    "import pandas  as pd\n",
    "import seaborn as sns\n",
    "\n",
    "from matplotlib              import pyplot as plt\n",
    "from sklearn.ensemble        import GradientBoostingClassifier\n",
    "from sklearn.linear_model    import LogisticRegression\n",
    "from sklearn.metrics         import accuracy_score, recall_score, precision_score, roc_auc_score\n",
    "from sklearn.model_selection import cross_val_score\n",
    "from sklearn.model_selection import GridSearchCV, train_test_split\n",
    "from sklearn.preprocessing   import StandardScaler"
   ]
  },
  {
   "cell_type": "code",
   "execution_count": 214,
   "metadata": {
    "scrolled": true
   },
   "outputs": [
    {
     "data": {
      "text/html": [
       "<div>\n",
       "<style scoped>\n",
       "    .dataframe tbody tr th:only-of-type {\n",
       "        vertical-align: middle;\n",
       "    }\n",
       "\n",
       "    .dataframe tbody tr th {\n",
       "        vertical-align: top;\n",
       "    }\n",
       "\n",
       "    .dataframe thead th {\n",
       "        text-align: right;\n",
       "    }\n",
       "</style>\n",
       "<table border=\"1\" class=\"dataframe\">\n",
       "  <thead>\n",
       "    <tr style=\"text-align: right;\">\n",
       "      <th></th>\n",
       "      <th>match_id</th>\n",
       "      <th>start_time</th>\n",
       "      <th>lobby_type</th>\n",
       "      <th>r1_hero</th>\n",
       "      <th>r1_level</th>\n",
       "      <th>r1_xp</th>\n",
       "      <th>r1_gold</th>\n",
       "      <th>r1_lh</th>\n",
       "      <th>r1_kills</th>\n",
       "      <th>r1_deaths</th>\n",
       "      <th>...</th>\n",
       "      <th>radiant_first_ward_time</th>\n",
       "      <th>dire_bottle_time</th>\n",
       "      <th>dire_courier_time</th>\n",
       "      <th>dire_flying_courier_time</th>\n",
       "      <th>dire_tpscroll_count</th>\n",
       "      <th>dire_boots_count</th>\n",
       "      <th>dire_ward_observer_count</th>\n",
       "      <th>dire_ward_sentry_count</th>\n",
       "      <th>dire_first_ward_time</th>\n",
       "      <th>radiant_win</th>\n",
       "    </tr>\n",
       "  </thead>\n",
       "  <tbody>\n",
       "    <tr>\n",
       "      <th>0</th>\n",
       "      <td>0</td>\n",
       "      <td>1430198770</td>\n",
       "      <td>7</td>\n",
       "      <td>11</td>\n",
       "      <td>5</td>\n",
       "      <td>2098</td>\n",
       "      <td>1489</td>\n",
       "      <td>20</td>\n",
       "      <td>0</td>\n",
       "      <td>0</td>\n",
       "      <td>...</td>\n",
       "      <td>35.0</td>\n",
       "      <td>103.0</td>\n",
       "      <td>-84.0</td>\n",
       "      <td>221.0</td>\n",
       "      <td>3</td>\n",
       "      <td>4</td>\n",
       "      <td>2</td>\n",
       "      <td>2</td>\n",
       "      <td>-52.0</td>\n",
       "      <td>1</td>\n",
       "    </tr>\n",
       "    <tr>\n",
       "      <th>1</th>\n",
       "      <td>1</td>\n",
       "      <td>1430220345</td>\n",
       "      <td>0</td>\n",
       "      <td>42</td>\n",
       "      <td>4</td>\n",
       "      <td>1188</td>\n",
       "      <td>1033</td>\n",
       "      <td>9</td>\n",
       "      <td>0</td>\n",
       "      <td>1</td>\n",
       "      <td>...</td>\n",
       "      <td>-20.0</td>\n",
       "      <td>149.0</td>\n",
       "      <td>-84.0</td>\n",
       "      <td>195.0</td>\n",
       "      <td>5</td>\n",
       "      <td>4</td>\n",
       "      <td>3</td>\n",
       "      <td>1</td>\n",
       "      <td>-5.0</td>\n",
       "      <td>1</td>\n",
       "    </tr>\n",
       "    <tr>\n",
       "      <th>2</th>\n",
       "      <td>2</td>\n",
       "      <td>1430227081</td>\n",
       "      <td>7</td>\n",
       "      <td>33</td>\n",
       "      <td>4</td>\n",
       "      <td>1319</td>\n",
       "      <td>1270</td>\n",
       "      <td>22</td>\n",
       "      <td>0</td>\n",
       "      <td>0</td>\n",
       "      <td>...</td>\n",
       "      <td>-39.0</td>\n",
       "      <td>45.0</td>\n",
       "      <td>-77.0</td>\n",
       "      <td>221.0</td>\n",
       "      <td>3</td>\n",
       "      <td>4</td>\n",
       "      <td>3</td>\n",
       "      <td>1</td>\n",
       "      <td>13.0</td>\n",
       "      <td>0</td>\n",
       "    </tr>\n",
       "    <tr>\n",
       "      <th>3</th>\n",
       "      <td>3</td>\n",
       "      <td>1430263531</td>\n",
       "      <td>1</td>\n",
       "      <td>29</td>\n",
       "      <td>4</td>\n",
       "      <td>1779</td>\n",
       "      <td>1056</td>\n",
       "      <td>14</td>\n",
       "      <td>0</td>\n",
       "      <td>0</td>\n",
       "      <td>...</td>\n",
       "      <td>-30.0</td>\n",
       "      <td>124.0</td>\n",
       "      <td>-80.0</td>\n",
       "      <td>184.0</td>\n",
       "      <td>0</td>\n",
       "      <td>4</td>\n",
       "      <td>2</td>\n",
       "      <td>0</td>\n",
       "      <td>27.0</td>\n",
       "      <td>0</td>\n",
       "    </tr>\n",
       "    <tr>\n",
       "      <th>4</th>\n",
       "      <td>4</td>\n",
       "      <td>1430282290</td>\n",
       "      <td>7</td>\n",
       "      <td>13</td>\n",
       "      <td>4</td>\n",
       "      <td>1431</td>\n",
       "      <td>1090</td>\n",
       "      <td>8</td>\n",
       "      <td>1</td>\n",
       "      <td>0</td>\n",
       "      <td>...</td>\n",
       "      <td>46.0</td>\n",
       "      <td>182.0</td>\n",
       "      <td>-80.0</td>\n",
       "      <td>225.0</td>\n",
       "      <td>6</td>\n",
       "      <td>3</td>\n",
       "      <td>3</td>\n",
       "      <td>0</td>\n",
       "      <td>-16.0</td>\n",
       "      <td>0</td>\n",
       "    </tr>\n",
       "  </tbody>\n",
       "</table>\n",
       "<p>5 rows × 104 columns</p>\n",
       "</div>"
      ],
      "text/plain": [
       "   match_id  start_time  lobby_type  r1_hero  r1_level  r1_xp  r1_gold  r1_lh  \\\n",
       "0         0  1430198770           7       11         5   2098     1489     20   \n",
       "1         1  1430220345           0       42         4   1188     1033      9   \n",
       "2         2  1430227081           7       33         4   1319     1270     22   \n",
       "3         3  1430263531           1       29         4   1779     1056     14   \n",
       "4         4  1430282290           7       13         4   1431     1090      8   \n",
       "\n",
       "   r1_kills  r1_deaths     ...       radiant_first_ward_time  \\\n",
       "0         0          0     ...                          35.0   \n",
       "1         0          1     ...                         -20.0   \n",
       "2         0          0     ...                         -39.0   \n",
       "3         0          0     ...                         -30.0   \n",
       "4         1          0     ...                          46.0   \n",
       "\n",
       "   dire_bottle_time  dire_courier_time  dire_flying_courier_time  \\\n",
       "0             103.0              -84.0                     221.0   \n",
       "1             149.0              -84.0                     195.0   \n",
       "2              45.0              -77.0                     221.0   \n",
       "3             124.0              -80.0                     184.0   \n",
       "4             182.0              -80.0                     225.0   \n",
       "\n",
       "   dire_tpscroll_count  dire_boots_count  dire_ward_observer_count  \\\n",
       "0                    3                 4                         2   \n",
       "1                    5                 4                         3   \n",
       "2                    3                 4                         3   \n",
       "3                    0                 4                         2   \n",
       "4                    6                 3                         3   \n",
       "\n",
       "   dire_ward_sentry_count  dire_first_ward_time  radiant_win  \n",
       "0                       2                 -52.0            1  \n",
       "1                       1                  -5.0            1  \n",
       "2                       1                  13.0            0  \n",
       "3                       0                  27.0            0  \n",
       "4                       0                 -16.0            0  \n",
       "\n",
       "[5 rows x 104 columns]"
      ]
     },
     "execution_count": 214,
     "metadata": {},
     "output_type": "execute_result"
    }
   ],
   "source": [
    "data = pd.read_csv('../features.csv').drop(['barracks_status_dire',\n",
    "                                            'barracks_status_radiant',\n",
    "                                            'duration',\n",
    "                                            'tower_status_dire',\n",
    "                                            'tower_status_radiant'], axis=1)\n",
    "data.head()"
   ]
  },
  {
   "cell_type": "code",
   "execution_count": 321,
   "metadata": {},
   "outputs": [
    {
     "data": {
      "text/html": [
       "<div>\n",
       "<style scoped>\n",
       "    .dataframe tbody tr th:only-of-type {\n",
       "        vertical-align: middle;\n",
       "    }\n",
       "\n",
       "    .dataframe tbody tr th {\n",
       "        vertical-align: top;\n",
       "    }\n",
       "\n",
       "    .dataframe thead th {\n",
       "        text-align: right;\n",
       "    }\n",
       "</style>\n",
       "<table border=\"1\" class=\"dataframe\">\n",
       "  <thead>\n",
       "    <tr style=\"text-align: right;\">\n",
       "      <th></th>\n",
       "      <th>id</th>\n",
       "      <th>localized_name</th>\n",
       "      <th>name</th>\n",
       "    </tr>\n",
       "  </thead>\n",
       "  <tbody>\n",
       "    <tr>\n",
       "      <th>0</th>\n",
       "      <td>1</td>\n",
       "      <td>Anti-Mage</td>\n",
       "      <td>antimage</td>\n",
       "    </tr>\n",
       "    <tr>\n",
       "      <th>1</th>\n",
       "      <td>2</td>\n",
       "      <td>Axe</td>\n",
       "      <td>axe</td>\n",
       "    </tr>\n",
       "    <tr>\n",
       "      <th>2</th>\n",
       "      <td>3</td>\n",
       "      <td>Bane</td>\n",
       "      <td>bane</td>\n",
       "    </tr>\n",
       "    <tr>\n",
       "      <th>3</th>\n",
       "      <td>4</td>\n",
       "      <td>Bloodseeker</td>\n",
       "      <td>bloodseeker</td>\n",
       "    </tr>\n",
       "    <tr>\n",
       "      <th>4</th>\n",
       "      <td>5</td>\n",
       "      <td>Crystal Maiden</td>\n",
       "      <td>crystal_maiden</td>\n",
       "    </tr>\n",
       "  </tbody>\n",
       "</table>\n",
       "</div>"
      ],
      "text/plain": [
       "   id  localized_name            name\n",
       "0   1       Anti-Mage        antimage\n",
       "1   2             Axe             axe\n",
       "2   3            Bane            bane\n",
       "3   4     Bloodseeker     bloodseeker\n",
       "4   5  Crystal Maiden  crystal_maiden"
      ]
     },
     "execution_count": 321,
     "metadata": {},
     "output_type": "execute_result"
    }
   ],
   "source": [
    "heroes = pd.read_csv('../heroes.csv')\n",
    "heroes.head()"
   ]
  },
  {
   "cell_type": "markdown",
   "metadata": {},
   "source": [
    "# EDA"
   ]
  },
  {
   "cell_type": "markdown",
   "metadata": {},
   "source": [
    "## Missing data"
   ]
  },
  {
   "cell_type": "code",
   "execution_count": 7,
   "metadata": {},
   "outputs": [
    {
     "data": {
      "text/plain": [
       "first_blood_time               19553\n",
       "first_blood_team               19553\n",
       "first_blood_player1            19553\n",
       "first_blood_player2            43987\n",
       "radiant_bottle_time            15691\n",
       "radiant_courier_time             692\n",
       "radiant_flying_courier_time    27479\n",
       "radiant_first_ward_time         1836\n",
       "dire_bottle_time               16143\n",
       "dire_courier_time                676\n",
       "dire_flying_courier_time       26098\n",
       "dire_first_ward_time            1826\n",
       "dtype: int32"
      ]
     },
     "execution_count": 7,
     "metadata": {},
     "output_type": "execute_result"
    }
   ],
   "source": [
    "data.isnull().sum().where(lambda x: x != 0).dropna().astype(int)"
   ]
  },
  {
   "cell_type": "markdown",
   "metadata": {},
   "source": [
    "Признаки, показаные выше, имеют пропуски среди своих значений. В данном датасете пропуски обусловлены действиями(а точнее их отсутствием) игроков. Например, значения, относящиеся к пролитию первой крови(начинающиеся на **first_blood**), имеют пропуски из-за того, что ни один игрок не убил другого за первые 5 минут игры. Далее видно, что есть пропуски в признаках, связанных с покупкой **вардов** и их установкой, **ботла** и **курьера**, а также апгрейдом последнего. Это связанно с тем, что в играх с пропусками значений этих признаков ни один игрок не покупал ботл, варды и курьера, не апгрейдил курьера и не ставил варды."
   ]
  },
  {
   "cell_type": "markdown",
   "metadata": {},
   "source": [
    "## Analysing the features"
   ]
  },
  {
   "cell_type": "code",
   "execution_count": 7,
   "metadata": {},
   "outputs": [
    {
     "data": {
      "image/png": "[encoded data removed]",
      "text/plain": [
       "<matplotlib.figure.Figure at 0x18cf844e748>"
      ]
     },
     "metadata": {},
     "output_type": "display_data"
    }
   ],
   "source": [
    "sns.countplot(x='radiant_win', data=data);"
   ]
  },
  {
   "cell_type": "code",
   "execution_count": 410,
   "metadata": {},
   "outputs": [
    {
     "data": {
      "text/html": [
       "<div>\n",
       "<style scoped>\n",
       "    .dataframe tbody tr th:only-of-type {\n",
       "        vertical-align: middle;\n",
       "    }\n",
       "\n",
       "    .dataframe tbody tr th {\n",
       "        vertical-align: top;\n",
       "    }\n",
       "\n",
       "    .dataframe thead th {\n",
       "        text-align: right;\n",
       "    }\n",
       "</style>\n",
       "<table border=\"1\" class=\"dataframe\">\n",
       "  <thead>\n",
       "    <tr style=\"text-align: right;\">\n",
       "      <th></th>\n",
       "      <th>r1_hero</th>\n",
       "      <th>r2_hero</th>\n",
       "      <th>r3_hero</th>\n",
       "      <th>r4_hero</th>\n",
       "      <th>r5_hero</th>\n",
       "      <th>d1_hero</th>\n",
       "      <th>d2_hero</th>\n",
       "      <th>d3_hero</th>\n",
       "      <th>d4_hero</th>\n",
       "      <th>d5_hero</th>\n",
       "    </tr>\n",
       "  </thead>\n",
       "  <tbody>\n",
       "    <tr>\n",
       "      <th>0</th>\n",
       "      <td>11</td>\n",
       "      <td>67</td>\n",
       "      <td>29</td>\n",
       "      <td>20</td>\n",
       "      <td>105</td>\n",
       "      <td>4</td>\n",
       "      <td>42</td>\n",
       "      <td>21</td>\n",
       "      <td>37</td>\n",
       "      <td>84</td>\n",
       "    </tr>\n",
       "    <tr>\n",
       "      <th>1</th>\n",
       "      <td>42</td>\n",
       "      <td>49</td>\n",
       "      <td>67</td>\n",
       "      <td>37</td>\n",
       "      <td>26</td>\n",
       "      <td>39</td>\n",
       "      <td>88</td>\n",
       "      <td>79</td>\n",
       "      <td>7</td>\n",
       "      <td>12</td>\n",
       "    </tr>\n",
       "    <tr>\n",
       "      <th>2</th>\n",
       "      <td>33</td>\n",
       "      <td>98</td>\n",
       "      <td>20</td>\n",
       "      <td>27</td>\n",
       "      <td>4</td>\n",
       "      <td>22</td>\n",
       "      <td>66</td>\n",
       "      <td>86</td>\n",
       "      <td>29</td>\n",
       "      <td>80</td>\n",
       "    </tr>\n",
       "    <tr>\n",
       "      <th>3</th>\n",
       "      <td>29</td>\n",
       "      <td>30</td>\n",
       "      <td>75</td>\n",
       "      <td>37</td>\n",
       "      <td>41</td>\n",
       "      <td>96</td>\n",
       "      <td>48</td>\n",
       "      <td>15</td>\n",
       "      <td>102</td>\n",
       "      <td>20</td>\n",
       "    </tr>\n",
       "    <tr>\n",
       "      <th>4</th>\n",
       "      <td>13</td>\n",
       "      <td>27</td>\n",
       "      <td>30</td>\n",
       "      <td>72</td>\n",
       "      <td>93</td>\n",
       "      <td>26</td>\n",
       "      <td>69</td>\n",
       "      <td>22</td>\n",
       "      <td>25</td>\n",
       "      <td>8</td>\n",
       "    </tr>\n",
       "  </tbody>\n",
       "</table>\n",
       "</div>"
      ],
      "text/plain": [
       "   r1_hero  r2_hero  r3_hero  r4_hero  r5_hero  d1_hero  d2_hero  d3_hero  \\\n",
       "0       11       67       29       20      105        4       42       21   \n",
       "1       42       49       67       37       26       39       88       79   \n",
       "2       33       98       20       27        4       22       66       86   \n",
       "3       29       30       75       37       41       96       48       15   \n",
       "4       13       27       30       72       93       26       69       22   \n",
       "\n",
       "   d4_hero  d5_hero  \n",
       "0       37       84  \n",
       "1        7       12  \n",
       "2       29       80  \n",
       "3      102       20  \n",
       "4       25        8  "
      ]
     },
     "execution_count": 410,
     "metadata": {},
     "output_type": "execute_result"
    }
   ],
   "source": [
    "heroes_df = data.filter(regex=('^\\w+_hero'), axis=1)\n",
    "heroes_df.head()"
   ]
  },
  {
   "cell_type": "code",
   "execution_count": 168,
   "metadata": {},
   "outputs": [
    {
     "data": {
      "text/plain": [
       "7      0.043560\n",
       "11     0.038003\n",
       "112    0.036943\n",
       "50     0.035588\n",
       "72     0.035444\n",
       "39     0.031484\n",
       "100    0.029321\n",
       "71     0.026773\n",
       "55     0.026037\n",
       "21     0.024663\n",
       "dtype: float64"
      ]
     },
     "execution_count": 168,
     "metadata": {},
     "output_type": "execute_result"
    }
   ],
   "source": [
    "heroes_pickrate = heroes_df.stack().value_counts() / heroes_df.size\n",
    "heroes_pickrate.head(10)"
   ]
  },
  {
   "cell_type": "markdown",
   "metadata": {},
   "source": [
    "10 самых популярных героев"
   ]
  },
  {
   "cell_type": "code",
   "execution_count": 141,
   "metadata": {},
   "outputs": [
    {
     "data": {
      "text/plain": [
       "108"
      ]
     },
     "execution_count": 141,
     "metadata": {},
     "output_type": "execute_result"
    }
   ],
   "source": [
    "hero_ids = heroes_df.stack().unique()\n",
    "hero_ids.size"
   ]
  },
  {
   "cell_type": "markdown",
   "metadata": {},
   "source": [
    "Количество уникальных героев по всем играм в выборке"
   ]
  },
  {
   "cell_type": "code",
   "execution_count": 338,
   "metadata": {},
   "outputs": [
    {
     "data": {
      "text/html": [
       "<div>\n",
       "<style scoped>\n",
       "    .dataframe tbody tr th:only-of-type {\n",
       "        vertical-align: middle;\n",
       "    }\n",
       "\n",
       "    .dataframe tbody tr th {\n",
       "        vertical-align: top;\n",
       "    }\n",
       "\n",
       "    .dataframe thead th {\n",
       "        text-align: right;\n",
       "    }\n",
       "</style>\n",
       "<table border=\"1\" class=\"dataframe\">\n",
       "  <thead>\n",
       "    <tr style=\"text-align: right;\">\n",
       "      <th></th>\n",
       "      <th>radiant_win</th>\n",
       "    </tr>\n",
       "    <tr>\n",
       "      <th>first_blood_team</th>\n",
       "      <th></th>\n",
       "    </tr>\n",
       "  </thead>\n",
       "  <tbody>\n",
       "    <tr>\n",
       "      <th>0.000000</th>\n",
       "      <td>0.594901</td>\n",
       "    </tr>\n",
       "    <tr>\n",
       "      <th>0.521815</th>\n",
       "      <td>0.527029</td>\n",
       "    </tr>\n",
       "    <tr>\n",
       "      <th>1.000000</th>\n",
       "      <td>0.444379</td>\n",
       "    </tr>\n",
       "  </tbody>\n",
       "</table>\n",
       "</div>"
      ],
      "text/plain": [
       "                  radiant_win\n",
       "first_blood_team             \n",
       "0.000000             0.594901\n",
       "0.521815             0.527029\n",
       "1.000000             0.444379"
      ]
     },
     "execution_count": 338,
     "metadata": {},
     "output_type": "execute_result"
    }
   ],
   "source": [
    "data.groupby('first_blood_team')['radiant_win'].mean()"
   ]
  },
  {
   "cell_type": "code",
   "execution_count": 343,
   "metadata": {},
   "outputs": [
    {
     "data": {
      "text/plain": [
       "<matplotlib.axes._subplots.AxesSubplot at 0x18cbe94fe80>"
      ]
     },
     "execution_count": 343,
     "metadata": {},
     "output_type": "execute_result"
    },
    {
     "data": {
      "image/png": "[encoded data removed]",
      "text/plain": [
       "<matplotlib.figure.Figure at 0x18cbeab5518>"
      ]
     },
     "metadata": {},
     "output_type": "display_data"
    }
   ],
   "source": [
    "data.groupby('first_blood_team')[['radiant_win']].mean().plot.bar()"
   ]
  },
  {
   "cell_type": "markdown",
   "metadata": {},
   "source": [
    "### Items"
   ]
  },
  {
   "cell_type": "code",
   "execution_count": 290,
   "metadata": {},
   "outputs": [],
   "source": [
    "items = ['tpscroll', 'boots', 'ward_observer', 'ward_sentry']\n",
    "items_df = pd.concat([data['radiant_win'], data.copy().filter(regex=('[a-z]+_[a-z]+_count'), axis=1)], axis=1)"
   ]
  },
  {
   "cell_type": "code",
   "execution_count": 291,
   "metadata": {},
   "outputs": [],
   "source": [
    "for item in ['tpscroll', 'boots', 'ward_observer', 'ward_sentry']:\n",
    "    items_df['radiant_{}_mean'.format(item)] = data.filter(regex=('radiant_{}_count'.format(item))).mean(axis=1)\n",
    "    items_df['dire_{}_mean'.format(item)] = data.filter(regex=('dire_{}_count'.format(item))).mean(axis=1)\n",
    "    items_df['{}_diff'.format(item)] = data.filter(regex=('radiant_{}_count'.format(item))).sum(axis=1) - \\\n",
    "                                       data.filter(regex=('dire_{}_count'.format(item))).sum(axis=1)"
   ]
  },
  {
   "cell_type": "code",
   "execution_count": 289,
   "metadata": {},
   "outputs": [
    {
     "data": {
      "text/plain": [
       "radiant_win                    1.000000\n",
       "boots_diff                     0.169357\n",
       "radiant_boots_count            0.119114\n",
       "radiant_boots_mean             0.119114\n",
       "dire_tpscroll_count            0.088593\n",
       "dire_tpscroll_mean             0.088593\n",
       "ward_observer_diff             0.016128\n",
       "radiant_ward_observer_mean     0.013225\n",
       "radiant_ward_observer_count    0.013225\n",
       "dire_ward_sentry_mean          0.007356\n",
       "dire_ward_sentry_count         0.007356\n",
       "radiant_ward_sentry_count     -0.004144\n",
       "radiant_ward_sentry_mean      -0.004144\n",
       "dire_ward_observer_mean       -0.008516\n",
       "dire_ward_observer_count      -0.008516\n",
       "ward_sentry_diff              -0.009295\n",
       "radiant_tpscroll_mean         -0.082777\n",
       "radiant_tpscroll_count        -0.082777\n",
       "dire_boots_mean               -0.111190\n",
       "dire_boots_count              -0.111190\n",
       "tpscroll_diff                 -0.144136\n",
       "Name: radiant_win, dtype: float64"
      ]
     },
     "execution_count": 289,
     "metadata": {},
     "output_type": "execute_result"
    }
   ],
   "source": [
    "items_df.corr()['radiant_win'].sort_values(ascending=False)"
   ]
  },
  {
   "cell_type": "code",
   "execution_count": null,
   "metadata": {},
   "outputs": [],
   "source": []
  },
  {
   "cell_type": "markdown",
   "metadata": {},
   "source": [
    "# Feature engineering"
   ]
  },
  {
   "cell_type": "code",
   "execution_count": 692,
   "metadata": {},
   "outputs": [
    {
     "data": {
      "text/plain": [
       "97230"
      ]
     },
     "execution_count": 692,
     "metadata": {},
     "output_type": "execute_result"
    }
   ],
   "source": [
    "data = data.fillna(data.mean())\n",
    "len(data)"
   ]
  },
  {
   "cell_type": "code",
   "execution_count": 701,
   "metadata": {},
   "outputs": [],
   "source": [
    "X = pd.concat([data.drop(['radiant_win'], axis=1), X_heroes], axis=1)\n",
    "y = data['radiant_win']"
   ]
  },
  {
   "cell_type": "code",
   "execution_count": 702,
   "metadata": {},
   "outputs": [],
   "source": [
    "#X_train, X_holdout, y_train, y_holdout = train_test_split(X, y, test_size=0.1, random_state=42)"
   ]
  },
  {
   "cell_type": "code",
   "execution_count": 703,
   "metadata": {},
   "outputs": [],
   "source": [
    "for attr in ['kills', 'deaths', 'lh', 'gold', 'level', 'xp']:\n",
    "    X['radiant_%s' % attr]=X.filter(regex=('^r._%s' % attr)).sum(axis=1)\n",
    "    X['dire_%s' % attr]=X.filter(regex=('^d._%s' % attr)).sum(axis=1)\n",
    "    X['%s_diff' % attr]=X['radiant_%s' % attr] - X['dire_%s' % attr]\n",
    "X['radiant_gold_xp'] = X['radiant_gold'] * X['radiant_xp']\n",
    "X['dire_gold_xp'] = X['dire_gold'] * X['dire_xp']\n",
    "#X['gold_xp_diff'] = X['radiant_gold_xp'] - X['dire_gold_xp']"
   ]
  },
  {
   "cell_type": "code",
   "execution_count": 704,
   "metadata": {},
   "outputs": [],
   "source": [
    "for attr in ['kills', 'deaths', 'lh', 'gold', 'level', 'xp']:\n",
    "    for side in ['dire', 'radiant']:\n",
    "        X.drop(['%s_%s' % (side, attr)], axis=1, inplace=True)\n",
    "        X.drop(list(X.filter(regex=('^%s._%s' % (side[0], attr)))), axis = 1, inplace = True)\n",
    "X.drop(['radiant_gold_xp', 'dire_gold_xp'], axis=1, inplace=True)"
   ]
  },
  {
   "cell_type": "code",
   "execution_count": 705,
   "metadata": {},
   "outputs": [],
   "source": [
    "X.drop(X.filter(regex=('\\w+_hero')), inplace=True, axis=1)"
   ]
  },
  {
   "cell_type": "code",
   "execution_count": 706,
   "metadata": {},
   "outputs": [],
   "source": [
    "scaler = StandardScaler()\n",
    "X = pd.DataFrame(scaler.fit_transform(X))\n",
    "X_train, X_holdout, y_train, y_holdout = train_test_split(X, y, test_size=0.1, random_state=42)"
   ]
  },
  {
   "cell_type": "code",
   "execution_count": 406,
   "metadata": {},
   "outputs": [
    {
     "data": {
      "text/plain": [
       "[(0.0605232526799967, 'gold_xp_diff'),\n",
       " (0.052503142897548497, 'gold_diff'),\n",
       " (0.042313077917033516, 'lh_diff'),\n",
       " (0.032079840432434774, 'xp_diff'),\n",
       " (0.028564403638011056, 'dire_gold_xp'),\n",
       " (0.027181946465477412, 'radiant_gold_xp'),\n",
       " (0.0217355337197495, 'dire_bottle_time'),\n",
       " (0.021647616603292764, 'start_time'),\n",
       " (0.021627494313551536, 'radiant_bottle_time'),\n",
       " (0.02150776446896464, 'dire_first_ward_time'),\n",
       " (0.021306233855702836, 'match_id'),\n",
       " (0.02120981866432716, 'radiant_first_ward_time'),\n",
       " (0.019526650515403754, 'first_blood_time'),\n",
       " (0.01816829166114033, 'radiant_flying_courier_time'),\n",
       " (0.017741629193277146, 'dire_flying_courier_time'),\n",
       " (0.017631825616937734, 'kills_diff'),\n",
       " (0.01644238440698998, 'dire_courier_time'),\n",
       " (0.01619388978445896, 'radiant_courier_time'),\n",
       " (0.013785483645488279, 'r3_items'),\n",
       " (0.01361445606616508, 'd2_items')]"
      ]
     },
     "execution_count": 406,
     "metadata": {},
     "output_type": "execute_result"
    }
   ],
   "source": [
    "from sklearn.ensemble import RandomForestClassifier\n",
    "\n",
    "clf = RandomForestClassifier().fit(X, y)\n",
    "sorted(zip(clf.feature_importances_, X.columns), reverse=True)[:20]"
   ]
  },
  {
   "cell_type": "code",
   "execution_count": 407,
   "metadata": {},
   "outputs": [
    {
     "data": {
      "text/html": [
       "<div>\n",
       "<style scoped>\n",
       "    .dataframe tbody tr th:only-of-type {\n",
       "        vertical-align: middle;\n",
       "    }\n",
       "\n",
       "    .dataframe tbody tr th {\n",
       "        vertical-align: top;\n",
       "    }\n",
       "\n",
       "    .dataframe thead th {\n",
       "        text-align: right;\n",
       "    }\n",
       "</style>\n",
       "<table border=\"1\" class=\"dataframe\">\n",
       "  <thead>\n",
       "    <tr style=\"text-align: right;\">\n",
       "      <th></th>\n",
       "      <th>radiant_win</th>\n",
       "    </tr>\n",
       "  </thead>\n",
       "  <tbody>\n",
       "    <tr>\n",
       "      <th>radiant_win</th>\n",
       "      <td>1.000000</td>\n",
       "    </tr>\n",
       "    <tr>\n",
       "      <th>gold_diff</th>\n",
       "      <td>0.364230</td>\n",
       "    </tr>\n",
       "    <tr>\n",
       "      <th>gold_xp_diff</th>\n",
       "      <td>0.361469</td>\n",
       "    </tr>\n",
       "    <tr>\n",
       "      <th>xp_diff</th>\n",
       "      <td>0.322020</td>\n",
       "    </tr>\n",
       "    <tr>\n",
       "      <th>lh_diff</th>\n",
       "      <td>0.307780</td>\n",
       "    </tr>\n",
       "    <tr>\n",
       "      <th>dire_gold_xp</th>\n",
       "      <td>0.275388</td>\n",
       "    </tr>\n",
       "    <tr>\n",
       "      <th>radiant_gold_xp</th>\n",
       "      <td>0.273499</td>\n",
       "    </tr>\n",
       "    <tr>\n",
       "      <th>deaths_diff</th>\n",
       "      <td>0.245958</td>\n",
       "    </tr>\n",
       "    <tr>\n",
       "      <th>level_diff</th>\n",
       "      <td>0.244707</td>\n",
       "    </tr>\n",
       "    <tr>\n",
       "      <th>kills_diff</th>\n",
       "      <td>0.244338</td>\n",
       "    </tr>\n",
       "    <tr>\n",
       "      <th>first_blood_team</th>\n",
       "      <td>0.134503</td>\n",
       "    </tr>\n",
       "    <tr>\n",
       "      <th>radiant_boots_count</th>\n",
       "      <td>0.119114</td>\n",
       "    </tr>\n",
       "    <tr>\n",
       "      <th>first_blood_player1</th>\n",
       "      <td>0.117701</td>\n",
       "    </tr>\n",
       "    <tr>\n",
       "      <th>dire_boots_count</th>\n",
       "      <td>0.111190</td>\n",
       "    </tr>\n",
       "    <tr>\n",
       "      <th>dire_tpscroll_count</th>\n",
       "      <td>0.088593</td>\n",
       "    </tr>\n",
       "    <tr>\n",
       "      <th>first_blood_player2</th>\n",
       "      <td>0.084915</td>\n",
       "    </tr>\n",
       "    <tr>\n",
       "      <th>radiant_tpscroll_count</th>\n",
       "      <td>0.082777</td>\n",
       "    </tr>\n",
       "    <tr>\n",
       "      <th>dire_bottle_time</th>\n",
       "      <td>0.060395</td>\n",
       "    </tr>\n",
       "    <tr>\n",
       "      <th>radiant_bottle_time</th>\n",
       "      <td>0.056309</td>\n",
       "    </tr>\n",
       "    <tr>\n",
       "      <th>r5_items</th>\n",
       "      <td>0.054364</td>\n",
       "    </tr>\n",
       "  </tbody>\n",
       "</table>\n",
       "</div>"
      ],
      "text/plain": [
       "                        radiant_win\n",
       "radiant_win                1.000000\n",
       "gold_diff                  0.364230\n",
       "gold_xp_diff               0.361469\n",
       "xp_diff                    0.322020\n",
       "lh_diff                    0.307780\n",
       "dire_gold_xp               0.275388\n",
       "radiant_gold_xp            0.273499\n",
       "deaths_diff                0.245958\n",
       "level_diff                 0.244707\n",
       "kills_diff                 0.244338\n",
       "first_blood_team           0.134503\n",
       "radiant_boots_count        0.119114\n",
       "first_blood_player1        0.117701\n",
       "dire_boots_count           0.111190\n",
       "dire_tpscroll_count        0.088593\n",
       "first_blood_player2        0.084915\n",
       "radiant_tpscroll_count     0.082777\n",
       "dire_bottle_time           0.060395\n",
       "radiant_bottle_time        0.056309\n",
       "r5_items                   0.054364"
      ]
     },
     "execution_count": 407,
     "metadata": {},
     "output_type": "execute_result"
    }
   ],
   "source": [
    "pd.DataFrame(StandardScaler().fit_transform(pd.concat([X, y], axis=1)), columns=pd.concat([X, y], axis=1).columns) \\\n",
    "    .corr()[['radiant_win',]] \\\n",
    "    .abs() \\\n",
    "    .sort_values(by='radiant_win', ascending=False)[:20]"
   ]
  },
  {
   "cell_type": "code",
   "execution_count": 380,
   "metadata": {},
   "outputs": [],
   "source": [
    "# X_heroes = pd.DataFrame(0, index=data.index, columns=heroes['id'])\n",
    "\n",
    "# for i, match_id in enumerate(data.index):\n",
    "#     for p in range(5):\n",
    "#         X_heroes.iloc[i, data.loc[match_id, 'r{}_hero'.format(p+1)]-1] = 1\n",
    "#         X_heroes.iloc[i, data.loc[match_id, 'd{}_hero'.format(p+1)]-1] = -1\n",
    "X_pick = np.zeros((data.shape[0], heroes.shape[0]))\n",
    "\n",
    "for i, match_id in enumerate(data.index):\n",
    "    for p in range(5):\n",
    "        X_pick[i, data.ix[match_id, 'r%d_hero' % (p+1)]-1] = 1\n",
    "        X_pick[i, data.ix[match_id, 'd%d_hero' % (p+1)]-1] = -1"
   ]
  },
  {
   "cell_type": "code",
   "execution_count": 396,
   "metadata": {},
   "outputs": [],
   "source": [
    "X_heroes = pd.DataFrame(X_pick, columns=range(1, heroes.shape[0] + 1))"
   ]
  },
  {
   "cell_type": "markdown",
   "metadata": {},
   "source": [
    "# GradientBoostingClassifier"
   ]
  },
  {
   "cell_type": "code",
   "execution_count": 408,
   "metadata": {},
   "outputs": [],
   "source": [
    "gbclf = GradientBoostingClassifier(n_estimators=100).fit(X_train, y_train)"
   ]
  },
  {
   "cell_type": "code",
   "execution_count": 423,
   "metadata": {},
   "outputs": [
    {
     "data": {
      "text/plain": [
       "0.7281519914175478"
      ]
     },
     "execution_count": 423,
     "metadata": {},
     "output_type": "execute_result"
    }
   ],
   "source": [
    "roc_auc_score(y_holdout, gbclf.predict_proba(X_holdout)[:,1])"
   ]
  },
  {
   "cell_type": "code",
   "execution_count": 707,
   "metadata": {},
   "outputs": [],
   "source": [
    "logregclf = clf = LogisticRegression(C=0.1, random_state=42).fit(X_train, y_train)"
   ]
  },
  {
   "cell_type": "code",
   "execution_count": 708,
   "metadata": {},
   "outputs": [
    {
     "data": {
      "text/plain": [
       "0.7505630598660792"
      ]
     },
     "execution_count": 708,
     "metadata": {},
     "output_type": "execute_result"
    }
   ],
   "source": [
    "roc_auc_score(y_holdout, logregclf.predict_proba(X_holdout)[:,1])"
   ]
  },
  {
   "cell_type": "markdown",
   "metadata": {},
   "source": [
    "0.7564177835454743"
   ]
  },
  {
   "cell_type": "markdown",
   "metadata": {},
   "source": [
    "## Hyperparameter tuning"
   ]
  },
  {
   "cell_type": "code",
   "execution_count": null,
   "metadata": {},
   "outputs": [],
   "source": [
    "n_estimators = range(10, 121, 10)\n",
    "\n",
    "gbc_grid = GridSearchCV(estimator=GradientBoostingClassifier(), param_grid={'n_estimators': n_estimators}, cv=5, scoring=)\n",
    "gbc_grid.fit(X_train, y_train)\n",
    "\n",
    "cv_scores = pd.DataFrame(gbc_grid.cv_results_)\n",
    "\n",
    "holdout_scores = []\n",
    "for n in n_estimators:\n",
    "    gbc_clf = GradientBoostingClassifier(n_estimators=n).fit(X_train, y_train)\n",
    "    holdout_scores.append(accuracy_score(y_holdout, gbc_clf.predict(X_holdout)))\n",
    "    \n",
    "plt.plot(n_estimators, cv_scores['mean_test_score'], label='cv');\n",
    "plt.plot(n_estimators, holdout_scores, label='holdout')\n",
    "plt.title('GradientBoostingClassifier')\n",
    "plt.legend();"
   ]
  },
  {
   "cell_type": "code",
   "execution_count": null,
   "metadata": {},
   "outputs": [],
   "source": [
    "cv_scores, holdout_scores = [], []\n",
    "n_estimators = range(10, 101, 10)\n",
    "\n",
    "for k in n_estimators:\n",
    "    gbc_clf = GradientBoostingClassifier(n_estimators=k)\n",
    "    cv_scores.append(np.mean(cross_val_score(gbc_clf, X_train, y_train, cv=5, scoring='roc_auc')))\n",
    "    gbc_clf.fit(X_train, y_train)\n",
    "    holdout_scores.append(roc_auc_score(y_holdout, gbc_clf.predict_proba(X_holdout)[:, 1]))"
   ]
  },
  {
   "cell_type": "code",
   "execution_count": 64,
   "metadata": {},
   "outputs": [
    {
     "data": {
      "image/png": "[encoded data removed]",
      "text/plain": [
       "<matplotlib.figure.Figure at 0x27d8b238240>"
      ]
     },
     "metadata": {},
     "output_type": "display_data"
    }
   ],
   "source": [
    "plt.plot(n_estimators, cv_scores, label='CV')\n",
    "plt.plot(n_estimators, holdout_scores, label='holdout')\n",
    "plt.title('GradientBoostingClassifier roc_auc')\n",
    "plt.legend();"
   ]
  },
  {
   "cell_type": "markdown",
   "metadata": {},
   "source": [
    "## Train"
   ]
  },
  {
   "cell_type": "code",
   "execution_count": 216,
   "metadata": {},
   "outputs": [],
   "source": [
    "#clf = GradientBoostingClassifier(n_estimators=30).fit(X_train, y_train)\n",
    "clf = LogisticRegression().fit(X_train, y_train)"
   ]
  },
  {
   "cell_type": "markdown",
   "metadata": {},
   "source": [
    "# LogisticRegression"
   ]
  },
  {
   "cell_type": "markdown",
   "metadata": {},
   "source": [
    "## Hyperparameter tuning"
   ]
  },
  {
   "cell_type": "code",
   "execution_count": null,
   "metadata": {},
   "outputs": [],
   "source": []
  },
  {
   "cell_type": "markdown",
   "metadata": {},
   "source": [
    "## Train"
   ]
  },
  {
   "cell_type": "code",
   "execution_count": null,
   "metadata": {},
   "outputs": [],
   "source": []
  },
  {
   "cell_type": "markdown",
   "metadata": {},
   "source": [
    "# Comparison"
   ]
  },
  {
   "cell_type": "code",
   "execution_count": 46,
   "metadata": {},
   "outputs": [
    {
     "data": {
      "text/plain": [
       "AdaBoostClassifier(algorithm='SAMME.R', base_estimator=None,\n",
       "          learning_rate=1.0, n_estimators=50, random_state=None)"
      ]
     },
     "execution_count": 46,
     "metadata": {},
     "output_type": "execute_result"
    }
   ],
   "source": [
    "from sklearn.ensemble import AdaBoostClassifier\n",
    "svm_clf = AdaBoostClassifier()\n",
    "svm_clf.fit(X_train, y_train)"
   ]
  },
  {
   "cell_type": "code",
   "execution_count": 47,
   "metadata": {},
   "outputs": [
    {
     "data": {
      "text/plain": [
       "0.644554149953718"
      ]
     },
     "execution_count": 47,
     "metadata": {},
     "output_type": "execute_result"
    }
   ],
   "source": [
    "accuracy_score(y_holdout, svm_clf.predict(X_holdout))"
   ]
  },
  {
   "cell_type": "code",
   "execution_count": 236,
   "metadata": {},
   "outputs": [],
   "source": [
    "#plt.figure(figsize = (20,20))\n",
    "#sns.heatmap(data.corr(), cmap='viridis', annot=True)"
   ]
  },
  {
   "cell_type": "code",
   "execution_count": 221,
   "metadata": {},
   "outputs": [
    {
     "data": {
      "text/plain": [
       "0.6588844321025746"
      ]
     },
     "execution_count": 221,
     "metadata": {},
     "output_type": "execute_result"
    }
   ],
   "source": [
    "accuracy_score(y_holdout, clf.predict(X_holdout))"
   ]
  },
  {
   "cell_type": "code",
   "execution_count": 222,
   "metadata": {},
   "outputs": [
    {
     "data": {
      "text/plain": [
       "0.6648257474766711"
      ]
     },
     "execution_count": 222,
     "metadata": {},
     "output_type": "execute_result"
    }
   ],
   "source": [
    "precision_score(y_holdout, clf.predict(X_holdout))"
   ]
  },
  {
   "cell_type": "code",
   "execution_count": 223,
   "metadata": {},
   "outputs": [
    {
     "data": {
      "text/plain": [
       "0.6916066829558212"
      ]
     },
     "execution_count": 223,
     "metadata": {},
     "output_type": "execute_result"
    }
   ],
   "source": [
    "recall_score(y_holdout, clf.predict(X_holdout))"
   ]
  },
  {
   "cell_type": "code",
   "execution_count": 13,
   "metadata": {},
   "outputs": [],
   "source": [
    "X_test = pd.read_csv('../features_test.csv')"
   ]
  },
  {
   "cell_type": "code",
   "execution_count": 14,
   "metadata": {},
   "outputs": [
    {
     "data": {
      "text/plain": [
       "17177"
      ]
     },
     "execution_count": 14,
     "metadata": {},
     "output_type": "execute_result"
    }
   ],
   "source": [
    "len(X_test)"
   ]
  },
  {
   "cell_type": "code",
   "execution_count": 15,
   "metadata": {},
   "outputs": [
    {
     "data": {
      "text/html": [
       "<div>\n",
       "<style scoped>\n",
       "    .dataframe tbody tr th:only-of-type {\n",
       "        vertical-align: middle;\n",
       "    }\n",
       "\n",
       "    .dataframe tbody tr th {\n",
       "        vertical-align: top;\n",
       "    }\n",
       "\n",
       "    .dataframe thead th {\n",
       "        text-align: right;\n",
       "    }\n",
       "</style>\n",
       "<table border=\"1\" class=\"dataframe\">\n",
       "  <thead>\n",
       "    <tr style=\"text-align: right;\">\n",
       "      <th></th>\n",
       "      <th>match_id</th>\n",
       "      <th>start_time</th>\n",
       "      <th>lobby_type</th>\n",
       "      <th>r1_hero</th>\n",
       "      <th>r1_level</th>\n",
       "      <th>r1_xp</th>\n",
       "      <th>r1_gold</th>\n",
       "      <th>r1_lh</th>\n",
       "      <th>r1_kills</th>\n",
       "      <th>r1_deaths</th>\n",
       "      <th>...</th>\n",
       "      <th>radiant_ward_sentry_count</th>\n",
       "      <th>radiant_first_ward_time</th>\n",
       "      <th>dire_bottle_time</th>\n",
       "      <th>dire_courier_time</th>\n",
       "      <th>dire_flying_courier_time</th>\n",
       "      <th>dire_tpscroll_count</th>\n",
       "      <th>dire_boots_count</th>\n",
       "      <th>dire_ward_observer_count</th>\n",
       "      <th>dire_ward_sentry_count</th>\n",
       "      <th>dire_first_ward_time</th>\n",
       "    </tr>\n",
       "  </thead>\n",
       "  <tbody>\n",
       "    <tr>\n",
       "      <th>0</th>\n",
       "      <td>6</td>\n",
       "      <td>1430287923</td>\n",
       "      <td>0</td>\n",
       "      <td>93</td>\n",
       "      <td>4</td>\n",
       "      <td>1103</td>\n",
       "      <td>1089</td>\n",
       "      <td>8</td>\n",
       "      <td>0</td>\n",
       "      <td>1</td>\n",
       "      <td>...</td>\n",
       "      <td>0</td>\n",
       "      <td>12.0</td>\n",
       "      <td>247.0</td>\n",
       "      <td>-86.0</td>\n",
       "      <td>272.0</td>\n",
       "      <td>3</td>\n",
       "      <td>4</td>\n",
       "      <td>2</td>\n",
       "      <td>0</td>\n",
       "      <td>118.0</td>\n",
       "    </tr>\n",
       "    <tr>\n",
       "      <th>1</th>\n",
       "      <td>7</td>\n",
       "      <td>1430293357</td>\n",
       "      <td>1</td>\n",
       "      <td>20</td>\n",
       "      <td>2</td>\n",
       "      <td>556</td>\n",
       "      <td>570</td>\n",
       "      <td>1</td>\n",
       "      <td>0</td>\n",
       "      <td>0</td>\n",
       "      <td>...</td>\n",
       "      <td>2</td>\n",
       "      <td>-29.0</td>\n",
       "      <td>168.0</td>\n",
       "      <td>-54.0</td>\n",
       "      <td>NaN</td>\n",
       "      <td>3</td>\n",
       "      <td>2</td>\n",
       "      <td>2</td>\n",
       "      <td>1</td>\n",
       "      <td>16.0</td>\n",
       "    </tr>\n",
       "    <tr>\n",
       "      <th>2</th>\n",
       "      <td>10</td>\n",
       "      <td>1430301774</td>\n",
       "      <td>1</td>\n",
       "      <td>112</td>\n",
       "      <td>2</td>\n",
       "      <td>751</td>\n",
       "      <td>808</td>\n",
       "      <td>1</td>\n",
       "      <td>0</td>\n",
       "      <td>0</td>\n",
       "      <td>...</td>\n",
       "      <td>1</td>\n",
       "      <td>-22.0</td>\n",
       "      <td>46.0</td>\n",
       "      <td>-87.0</td>\n",
       "      <td>186.0</td>\n",
       "      <td>1</td>\n",
       "      <td>3</td>\n",
       "      <td>3</td>\n",
       "      <td>0</td>\n",
       "      <td>-34.0</td>\n",
       "    </tr>\n",
       "    <tr>\n",
       "      <th>3</th>\n",
       "      <td>13</td>\n",
       "      <td>1430323933</td>\n",
       "      <td>1</td>\n",
       "      <td>27</td>\n",
       "      <td>3</td>\n",
       "      <td>708</td>\n",
       "      <td>903</td>\n",
       "      <td>1</td>\n",
       "      <td>1</td>\n",
       "      <td>1</td>\n",
       "      <td>...</td>\n",
       "      <td>2</td>\n",
       "      <td>-49.0</td>\n",
       "      <td>30.0</td>\n",
       "      <td>-89.0</td>\n",
       "      <td>210.0</td>\n",
       "      <td>3</td>\n",
       "      <td>4</td>\n",
       "      <td>2</td>\n",
       "      <td>1</td>\n",
       "      <td>-26.0</td>\n",
       "    </tr>\n",
       "    <tr>\n",
       "      <th>4</th>\n",
       "      <td>16</td>\n",
       "      <td>1430331112</td>\n",
       "      <td>1</td>\n",
       "      <td>39</td>\n",
       "      <td>4</td>\n",
       "      <td>1259</td>\n",
       "      <td>661</td>\n",
       "      <td>4</td>\n",
       "      <td>0</td>\n",
       "      <td>0</td>\n",
       "      <td>...</td>\n",
       "      <td>0</td>\n",
       "      <td>36.0</td>\n",
       "      <td>180.0</td>\n",
       "      <td>-86.0</td>\n",
       "      <td>180.0</td>\n",
       "      <td>1</td>\n",
       "      <td>3</td>\n",
       "      <td>2</td>\n",
       "      <td>1</td>\n",
       "      <td>-33.0</td>\n",
       "    </tr>\n",
       "  </tbody>\n",
       "</table>\n",
       "<p>5 rows × 103 columns</p>\n",
       "</div>"
      ],
      "text/plain": [
       "   match_id  start_time  lobby_type  r1_hero  r1_level  r1_xp  r1_gold  r1_lh  \\\n",
       "0         6  1430287923           0       93         4   1103     1089      8   \n",
       "1         7  1430293357           1       20         2    556      570      1   \n",
       "2        10  1430301774           1      112         2    751      808      1   \n",
       "3        13  1430323933           1       27         3    708      903      1   \n",
       "4        16  1430331112           1       39         4   1259      661      4   \n",
       "\n",
       "   r1_kills  r1_deaths          ...           radiant_ward_sentry_count  \\\n",
       "0         0          1          ...                                   0   \n",
       "1         0          0          ...                                   2   \n",
       "2         0          0          ...                                   1   \n",
       "3         1          1          ...                                   2   \n",
       "4         0          0          ...                                   0   \n",
       "\n",
       "   radiant_first_ward_time  dire_bottle_time  dire_courier_time  \\\n",
       "0                     12.0             247.0              -86.0   \n",
       "1                    -29.0             168.0              -54.0   \n",
       "2                    -22.0              46.0              -87.0   \n",
       "3                    -49.0              30.0              -89.0   \n",
       "4                     36.0             180.0              -86.0   \n",
       "\n",
       "   dire_flying_courier_time  dire_tpscroll_count  dire_boots_count  \\\n",
       "0                     272.0                    3                 4   \n",
       "1                       NaN                    3                 2   \n",
       "2                     186.0                    1                 3   \n",
       "3                     210.0                    3                 4   \n",
       "4                     180.0                    1                 3   \n",
       "\n",
       "   dire_ward_observer_count  dire_ward_sentry_count  dire_first_ward_time  \n",
       "0                         2                       0                 118.0  \n",
       "1                         2                       1                  16.0  \n",
       "2                         3                       0                 -34.0  \n",
       "3                         2                       1                 -26.0  \n",
       "4                         2                       1                 -33.0  \n",
       "\n",
       "[5 rows x 103 columns]"
      ]
     },
     "execution_count": 15,
     "metadata": {},
     "output_type": "execute_result"
    }
   ],
   "source": [
    "X_test.head(5)"
   ]
  },
  {
   "cell_type": "code",
   "execution_count": 11,
   "metadata": {},
   "outputs": [
    {
     "data": {
      "text/html": [
       "<div>\n",
       "<style scoped>\n",
       "    .dataframe tbody tr th:only-of-type {\n",
       "        vertical-align: middle;\n",
       "    }\n",
       "\n",
       "    .dataframe tbody tr th {\n",
       "        vertical-align: top;\n",
       "    }\n",
       "\n",
       "    .dataframe thead th {\n",
       "        text-align: right;\n",
       "    }\n",
       "</style>\n",
       "<table border=\"1\" class=\"dataframe\">\n",
       "  <thead>\n",
       "    <tr style=\"text-align: right;\">\n",
       "      <th></th>\n",
       "      <th>match_id</th>\n",
       "      <th>radiant_win</th>\n",
       "    </tr>\n",
       "  </thead>\n",
       "  <tbody>\n",
       "    <tr>\n",
       "      <th>0</th>\n",
       "      <td>6</td>\n",
       "      <td>0.518503</td>\n",
       "    </tr>\n",
       "    <tr>\n",
       "      <th>1</th>\n",
       "      <td>7</td>\n",
       "      <td>0.518503</td>\n",
       "    </tr>\n",
       "    <tr>\n",
       "      <th>2</th>\n",
       "      <td>10</td>\n",
       "      <td>0.518503</td>\n",
       "    </tr>\n",
       "    <tr>\n",
       "      <th>3</th>\n",
       "      <td>13</td>\n",
       "      <td>0.518503</td>\n",
       "    </tr>\n",
       "    <tr>\n",
       "      <th>4</th>\n",
       "      <td>16</td>\n",
       "      <td>0.518503</td>\n",
       "    </tr>\n",
       "  </tbody>\n",
       "</table>\n",
       "</div>"
      ],
      "text/plain": [
       "   match_id  radiant_win\n",
       "0         6     0.518503\n",
       "1         7     0.518503\n",
       "2        10     0.518503\n",
       "3        13     0.518503\n",
       "4        16     0.518503"
      ]
     },
     "execution_count": 11,
     "metadata": {},
     "output_type": "execute_result"
    }
   ],
   "source": [
    "sub = pd.read_csv('../sample_submission.csv')\n",
    "sub.head()"
   ]
  },
  {
   "cell_type": "code",
   "execution_count": 56,
   "metadata": {},
   "outputs": [],
   "source": [
    "X_test.fillna(X_test.mean(), inplace=True)"
   ]
  },
  {
   "cell_type": "code",
   "execution_count": 86,
   "metadata": {},
   "outputs": [],
   "source": [
    "clf.predict_proba?"
   ]
  },
  {
   "cell_type": "code",
   "execution_count": 10,
   "metadata": {},
   "outputs": [
    {
     "data": {
      "text/plain": [
       "68061"
      ]
     },
     "execution_count": 10,
     "metadata": {},
     "output_type": "execute_result"
    }
   ],
   "source": [
    "len(X_train)"
   ]
  },
  {
   "cell_type": "code",
   "execution_count": 62,
   "metadata": {},
   "outputs": [
    {
     "name": "stdout",
     "output_type": "stream",
     "text": [
      "      id       localized_name                      name\n",
      "0      1            Anti-Mage                  antimage\n",
      "1      2                  Axe                       axe\n",
      "2      3                 Bane                      bane\n",
      "3      4          Bloodseeker               bloodseeker\n",
      "4      5       Crystal Maiden            crystal_maiden\n",
      "5      6          Drow Ranger               drow_ranger\n",
      "6      7          Earthshaker               earthshaker\n",
      "7      8           Juggernaut                juggernaut\n",
      "8      9               Mirana                    mirana\n",
      "9     11         Shadow Fiend                 nevermore\n",
      "10    10            Morphling                 morphling\n",
      "11    12       Phantom Lancer            phantom_lancer\n",
      "12    13                 Puck                      puck\n",
      "13    14                Pudge                     pudge\n",
      "14    15                Razor                     razor\n",
      "15    16            Sand King                 sand_king\n",
      "16    17         Storm Spirit              storm_spirit\n",
      "17    18                 Sven                      sven\n",
      "18    19                 Tiny                      tiny\n",
      "19    20      Vengeful Spirit            vengefulspirit\n",
      "20    21           Windranger                windrunner\n",
      "21    22                 Zeus                      zuus\n",
      "22    23               Kunkka                    kunkka\n",
      "23    25                 Lina                      lina\n",
      "24    31                 Lich                      lich\n",
      "25    26                 Lion                      lion\n",
      "26    27        Shadow Shaman             shadow_shaman\n",
      "27    28              Slardar                   slardar\n",
      "28    29           Tidehunter                tidehunter\n",
      "29    30         Witch Doctor              witch_doctor\n",
      "30    32                 Riki                      riki\n",
      "31    33               Enigma                    enigma\n",
      "32    34               Tinker                    tinker\n",
      "33    35               Sniper                    sniper\n",
      "34    36            Necrophos                 necrolyte\n",
      "35    37              Warlock                   warlock\n",
      "36    38          Beastmaster               beastmaster\n",
      "37    39        Queen of Pain               queenofpain\n",
      "38    40           Venomancer                venomancer\n",
      "39    41        Faceless Void             faceless_void\n",
      "40    42        Skeleton King             skeleton_king\n",
      "41    43        Death Prophet             death_prophet\n",
      "42    44     Phantom Assassin          phantom_assassin\n",
      "43    45                Pugna                     pugna\n",
      "44    46     Templar Assassin          templar_assassin\n",
      "45    47                Viper                     viper\n",
      "46    48                 Luna                      luna\n",
      "47    49        Dragon Knight             dragon_knight\n",
      "48    50               Dazzle                    dazzle\n",
      "49    51            Clockwerk                rattletrap\n",
      "50    52              Leshrac                   leshrac\n",
      "51    53     Nature's Prophet                    furion\n",
      "52    54          Lifestealer              life_stealer\n",
      "53    55            Dark Seer                 dark_seer\n",
      "54    56               Clinkz                    clinkz\n",
      "55    57           Omniknight                omniknight\n",
      "56    58          Enchantress               enchantress\n",
      "57    59               Huskar                    huskar\n",
      "58    60        Night Stalker             night_stalker\n",
      "59    61          Broodmother               broodmother\n",
      "60    62        Bounty Hunter             bounty_hunter\n",
      "61    63               Weaver                    weaver\n",
      "62    64               Jakiro                    jakiro\n",
      "63    65             Batrider                  batrider\n",
      "64    66                 Chen                      chen\n",
      "65    67              Spectre                   spectre\n",
      "66    69                 Doom              doom_bringer\n",
      "67    68   Ancient Apparition        ancient_apparition\n",
      "68    70                 Ursa                      ursa\n",
      "69    71       Spirit Breaker            spirit_breaker\n",
      "70    72           Gyrocopter                gyrocopter\n",
      "71    73            Alchemist                 alchemist\n",
      "72    74              Invoker                   invoker\n",
      "73    75             Silencer                  silencer\n",
      "74    76    Outworld Devourer        obsidian_destroyer\n",
      "75    77          Lycanthrope                     lycan\n",
      "76    78           Brewmaster                brewmaster\n",
      "77    79         Shadow Demon              shadow_demon\n",
      "78    80           Lone Druid                lone_druid\n",
      "79    81         Chaos Knight              chaos_knight\n",
      "80    82                Meepo                     meepo\n",
      "81    83     Treant Protector                    treant\n",
      "82    84            Ogre Magi                 ogre_magi\n",
      "83    85              Undying                   undying\n",
      "84    86               Rubick                    rubick\n",
      "85    87            Disruptor                 disruptor\n",
      "86    88         Nyx Assassin              nyx_assassin\n",
      "87    89           Naga Siren                naga_siren\n",
      "88    90  Keeper of the Light       keeper_of_the_light\n",
      "89    91                 Wisp                      wisp\n",
      "90    92               Visage                    visage\n",
      "91    93                Slark                     slark\n",
      "92    94               Medusa                    medusa\n",
      "93    95        Troll Warlord             troll_warlord\n",
      "94    96    Centaur Warrunner                   centaur\n",
      "95    97               Magnus                 magnataur\n",
      "96    98            Timbersaw                  shredder\n",
      "97    99          Bristleback               bristleback\n",
      "98   100                 Tusk                      tusk\n",
      "99   101        Skywrath Mage             skywrath_mage\n",
      "100  102              Abaddon                   abaddon\n",
      "101  103          Elder Titan               elder_titan\n",
      "102  104     Legion Commander          legion_commander\n",
      "103  106         Ember Spirit              ember_spirit\n",
      "104  107         Earth Spirit              earth_spirit\n",
      "105  108    Abyssal Underlord         abyssal_underlord\n",
      "106  109          Terrorblade               terrorblade\n",
      "107  110              Phoenix                   phoenix\n",
      "108  105              Techies                   techies\n",
      "109  111               Oracle                    oracle\n",
      "110  112        Winter Wyvern             winter_wyvern\n",
      "111  113           Arc Warden  npc_dota_hero_arc_warden\n"
     ]
    }
   ],
   "source": [
    "heroes = pd.read_csv('../heroes.csv')\n",
    "print(heroes.to_string())"
   ]
  },
  {
   "cell_type": "code",
   "execution_count": null,
   "metadata": {},
   "outputs": [],
   "source": []
  }
 ],
 "metadata": {
  "kernelspec": {
   "display_name": "Python 3",
   "language": "python",
   "name": "python3"
  },
  "language_info": {
   "codemirror_mode": {
    "name": "ipython",
    "version": 3
   },
   "file_extension": ".py",
   "mimetype": "text/x-python",
   "name": "python",
   "nbconvert_exporter": "python",
   "pygments_lexer": "ipython3",
   "version": "3.6.4"
  }
 },
 "nbformat": 4,
 "nbformat_minor": 2
}
