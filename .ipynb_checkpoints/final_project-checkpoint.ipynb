{
 "cells": [
  {
   "cell_type": "code",
   "execution_count": 4,
   "metadata": {},
   "outputs": [],
   "source": [
    "import numpy   as np\n",
    "import pandas  as pd\n",
    "import seaborn as sns\n",
    "\n",
    "from matplotlib              import pyplot as plt\n",
    "from sklearn.ensemble        import GradientBoostingClassifier\n",
    "from sklearn.linear_model    import LogisticRegression\n",
    "from sklearn.metrics         import accuracy_score, recall_score, precision_score, roc_auc_score\n",
    "from sklearn.model_selection import cross_val_score\n",
    "from sklearn.model_selection import GridSearchCV, train_test_split\n",
    "from sklearn.preprocessing   import StandardScaler"
   ]
  },
  {
   "cell_type": "code",
   "execution_count": 27,
   "metadata": {},
   "outputs": [
    {
     "data": {
      "text/html": [
       "<div>\n",
       "<style scoped>\n",
       "    .dataframe tbody tr th:only-of-type {\n",
       "        vertical-align: middle;\n",
       "    }\n",
       "\n",
       "    .dataframe tbody tr th {\n",
       "        vertical-align: top;\n",
       "    }\n",
       "\n",
       "    .dataframe thead th {\n",
       "        text-align: right;\n",
       "    }\n",
       "</style>\n",
       "<table border=\"1\" class=\"dataframe\">\n",
       "  <thead>\n",
       "    <tr style=\"text-align: right;\">\n",
       "      <th></th>\n",
       "      <th>match_id</th>\n",
       "      <th>start_time</th>\n",
       "      <th>lobby_type</th>\n",
       "      <th>r1_hero</th>\n",
       "      <th>r1_level</th>\n",
       "      <th>r1_xp</th>\n",
       "      <th>r1_gold</th>\n",
       "      <th>r1_lh</th>\n",
       "      <th>r1_kills</th>\n",
       "      <th>r1_deaths</th>\n",
       "      <th>...</th>\n",
       "      <th>radiant_first_ward_time</th>\n",
       "      <th>dire_bottle_time</th>\n",
       "      <th>dire_courier_time</th>\n",
       "      <th>dire_flying_courier_time</th>\n",
       "      <th>dire_tpscroll_count</th>\n",
       "      <th>dire_boots_count</th>\n",
       "      <th>dire_ward_observer_count</th>\n",
       "      <th>dire_ward_sentry_count</th>\n",
       "      <th>dire_first_ward_time</th>\n",
       "      <th>radiant_win</th>\n",
       "    </tr>\n",
       "  </thead>\n",
       "  <tbody>\n",
       "    <tr>\n",
       "      <th>0</th>\n",
       "      <td>0</td>\n",
       "      <td>1430198770</td>\n",
       "      <td>7</td>\n",
       "      <td>11</td>\n",
       "      <td>5</td>\n",
       "      <td>2098</td>\n",
       "      <td>1489</td>\n",
       "      <td>20</td>\n",
       "      <td>0</td>\n",
       "      <td>0</td>\n",
       "      <td>...</td>\n",
       "      <td>35.0</td>\n",
       "      <td>103.0</td>\n",
       "      <td>-84.0</td>\n",
       "      <td>221.0</td>\n",
       "      <td>3</td>\n",
       "      <td>4</td>\n",
       "      <td>2</td>\n",
       "      <td>2</td>\n",
       "      <td>-52.0</td>\n",
       "      <td>1</td>\n",
       "    </tr>\n",
       "    <tr>\n",
       "      <th>1</th>\n",
       "      <td>1</td>\n",
       "      <td>1430220345</td>\n",
       "      <td>0</td>\n",
       "      <td>42</td>\n",
       "      <td>4</td>\n",
       "      <td>1188</td>\n",
       "      <td>1033</td>\n",
       "      <td>9</td>\n",
       "      <td>0</td>\n",
       "      <td>1</td>\n",
       "      <td>...</td>\n",
       "      <td>-20.0</td>\n",
       "      <td>149.0</td>\n",
       "      <td>-84.0</td>\n",
       "      <td>195.0</td>\n",
       "      <td>5</td>\n",
       "      <td>4</td>\n",
       "      <td>3</td>\n",
       "      <td>1</td>\n",
       "      <td>-5.0</td>\n",
       "      <td>1</td>\n",
       "    </tr>\n",
       "    <tr>\n",
       "      <th>2</th>\n",
       "      <td>2</td>\n",
       "      <td>1430227081</td>\n",
       "      <td>7</td>\n",
       "      <td>33</td>\n",
       "      <td>4</td>\n",
       "      <td>1319</td>\n",
       "      <td>1270</td>\n",
       "      <td>22</td>\n",
       "      <td>0</td>\n",
       "      <td>0</td>\n",
       "      <td>...</td>\n",
       "      <td>-39.0</td>\n",
       "      <td>45.0</td>\n",
       "      <td>-77.0</td>\n",
       "      <td>221.0</td>\n",
       "      <td>3</td>\n",
       "      <td>4</td>\n",
       "      <td>3</td>\n",
       "      <td>1</td>\n",
       "      <td>13.0</td>\n",
       "      <td>0</td>\n",
       "    </tr>\n",
       "    <tr>\n",
       "      <th>3</th>\n",
       "      <td>3</td>\n",
       "      <td>1430263531</td>\n",
       "      <td>1</td>\n",
       "      <td>29</td>\n",
       "      <td>4</td>\n",
       "      <td>1779</td>\n",
       "      <td>1056</td>\n",
       "      <td>14</td>\n",
       "      <td>0</td>\n",
       "      <td>0</td>\n",
       "      <td>...</td>\n",
       "      <td>-30.0</td>\n",
       "      <td>124.0</td>\n",
       "      <td>-80.0</td>\n",
       "      <td>184.0</td>\n",
       "      <td>0</td>\n",
       "      <td>4</td>\n",
       "      <td>2</td>\n",
       "      <td>0</td>\n",
       "      <td>27.0</td>\n",
       "      <td>0</td>\n",
       "    </tr>\n",
       "    <tr>\n",
       "      <th>4</th>\n",
       "      <td>4</td>\n",
       "      <td>1430282290</td>\n",
       "      <td>7</td>\n",
       "      <td>13</td>\n",
       "      <td>4</td>\n",
       "      <td>1431</td>\n",
       "      <td>1090</td>\n",
       "      <td>8</td>\n",
       "      <td>1</td>\n",
       "      <td>0</td>\n",
       "      <td>...</td>\n",
       "      <td>46.0</td>\n",
       "      <td>182.0</td>\n",
       "      <td>-80.0</td>\n",
       "      <td>225.0</td>\n",
       "      <td>6</td>\n",
       "      <td>3</td>\n",
       "      <td>3</td>\n",
       "      <td>0</td>\n",
       "      <td>-16.0</td>\n",
       "      <td>0</td>\n",
       "    </tr>\n",
       "  </tbody>\n",
       "</table>\n",
       "<p>5 rows × 104 columns</p>\n",
       "</div>"
      ],
      "text/plain": [
       "   match_id  start_time  lobby_type  r1_hero  r1_level  r1_xp  r1_gold  r1_lh  \\\n",
       "0         0  1430198770           7       11         5   2098     1489     20   \n",
       "1         1  1430220345           0       42         4   1188     1033      9   \n",
       "2         2  1430227081           7       33         4   1319     1270     22   \n",
       "3         3  1430263531           1       29         4   1779     1056     14   \n",
       "4         4  1430282290           7       13         4   1431     1090      8   \n",
       "\n",
       "   r1_kills  r1_deaths     ...       radiant_first_ward_time  \\\n",
       "0         0          0     ...                          35.0   \n",
       "1         0          1     ...                         -20.0   \n",
       "2         0          0     ...                         -39.0   \n",
       "3         0          0     ...                         -30.0   \n",
       "4         1          0     ...                          46.0   \n",
       "\n",
       "   dire_bottle_time  dire_courier_time  dire_flying_courier_time  \\\n",
       "0             103.0              -84.0                     221.0   \n",
       "1             149.0              -84.0                     195.0   \n",
       "2              45.0              -77.0                     221.0   \n",
       "3             124.0              -80.0                     184.0   \n",
       "4             182.0              -80.0                     225.0   \n",
       "\n",
       "   dire_tpscroll_count  dire_boots_count  dire_ward_observer_count  \\\n",
       "0                    3                 4                         2   \n",
       "1                    5                 4                         3   \n",
       "2                    3                 4                         3   \n",
       "3                    0                 4                         2   \n",
       "4                    6                 3                         3   \n",
       "\n",
       "   dire_ward_sentry_count  dire_first_ward_time  radiant_win  \n",
       "0                       2                 -52.0            1  \n",
       "1                       1                  -5.0            1  \n",
       "2                       1                  13.0            0  \n",
       "3                       0                  27.0            0  \n",
       "4                       0                 -16.0            0  \n",
       "\n",
       "[5 rows x 104 columns]"
      ]
     },
     "execution_count": 27,
     "metadata": {},
     "output_type": "execute_result"
    }
   ],
   "source": [
    "data = pd.read_csv('../features.csv').drop(['barracks_status_dire',\n",
    "                                            'barracks_status_radiant',\n",
    "                                            'duration',\n",
    "                                            'tower_status_dire',\n",
    "                                            'tower_status_radiant'], axis=1)\n",
    "data.head()"
   ]
  },
  {
   "cell_type": "markdown",
   "metadata": {},
   "source": [
    "# EDA"
   ]
  },
  {
   "cell_type": "markdown",
   "metadata": {},
   "source": [
    "## Missing data"
   ]
  },
  {
   "cell_type": "code",
   "execution_count": 6,
   "metadata": {},
   "outputs": [
    {
     "data": {
      "text/plain": [
       "first_blood_time               19553\n",
       "first_blood_team               19553\n",
       "first_blood_player1            19553\n",
       "first_blood_player2            43987\n",
       "radiant_bottle_time            15691\n",
       "radiant_courier_time             692\n",
       "radiant_flying_courier_time    27479\n",
       "radiant_first_ward_time         1836\n",
       "dire_bottle_time               16143\n",
       "dire_courier_time                676\n",
       "dire_flying_courier_time       26098\n",
       "dire_first_ward_time            1826\n",
       "dtype: int32"
      ]
     },
     "execution_count": 6,
     "metadata": {},
     "output_type": "execute_result"
    }
   ],
   "source": [
    "data.isnull().sum().where(lambda x: x != 0).dropna().astype(int)"
   ]
  },
  {
   "cell_type": "markdown",
   "metadata": {},
   "source": [
    "Признаки, показаные выше, имеют пропуски среди своих значений. В данном датасэте пропуски обусловлены действиями(а точнее их отсутствием) игроков. Например, значения, относящиеся к пролитию первой крови(начинающиеся на first_blood), имеют пропуски из-за того, что ни один игрок не убил другого за первые 5 минут игры. Далее видно, что есть пропуски в признаках, связанных с покупкой вардов и их установкой, ботла и курьера, а также апгрейдом последнего. Это связанно с тем, что в играх с пропусками значений этих признаков ни один игрок не покупал ботл, варды и курьера, не апгрейдил курьера и не ставил варды."
   ]
  },
  {
   "cell_type": "code",
   "execution_count": 7,
   "metadata": {},
   "outputs": [
    {
     "data": {
      "image/png": "[encoded data removed]",
      "text/plain": [
       "<matplotlib.figure.Figure at 0x2ae26d519e8>"
      ]
     },
     "metadata": {},
     "output_type": "display_data"
    }
   ],
   "source": [
    "sns.countplot('radiant_win', data=data);"
   ]
  },
  {
   "cell_type": "markdown",
   "metadata": {},
   "source": [
    "# Feature engineering"
   ]
  },
  {
   "cell_type": "code",
   "execution_count": 32,
   "metadata": {},
   "outputs": [
    {
     "data": {
      "text/plain": [
       "97230"
      ]
     },
     "execution_count": 32,
     "metadata": {},
     "output_type": "execute_result"
    }
   ],
   "source": [
    "data = data.fillna(data.mean())\n",
    "len(data)"
   ]
  },
  {
   "cell_type": "code",
   "execution_count": 48,
   "metadata": {},
   "outputs": [],
   "source": [
    "X = data.drop(['radiant_win'], axis=1)\n",
    "y = data['radiant_win']\n",
    "    \n",
    "# scaler = StandardScaler()\n",
    "# X_scaled = scaler.fit_transform(X)\n",
    "# X_scaled = pd.DataFrame(X_scaled)\n",
    "# X_train, X_holdout, y_train, y_holdout = train_test_split(X_scaled, y, test_size=0.3)\n",
    "\n",
    "X_train, X_holdout, y_train, y_holdout = train_test_split(X, y, test_size=0.3)"
   ]
  },
  {
   "cell_type": "code",
   "execution_count": null,
   "metadata": {},
   "outputs": [],
   "source": [
    "for attr in ['kills', 'deaths', 'lh', 'gold', 'level', 'xp']:\n",
    "    X_train['radiant_%s' % attr]=X_train.filter(regex=('^r._%s' % attr)).sum(axis=1)\n",
    "    X_train['dire_%s' % attr]=X_train.filter(regex=('^d._%s' % attr)).sum(axis=1)\n",
    "    X_train['%s_diff' % attr]=X_train['radiant_%s' % attr] - X_train['dire_%s' % attr]\n",
    "\n",
    "# for attr in ['kills', 'deaths', 'lh', 'gold', 'level', 'xp']:\n",
    "#     X.drop(['radiant_%s' % attr], axis = 1, inplace = True)\n",
    "#     X.drop(['dire_%s' % attr], axis = 1, inplace = True)\n"
   ]
  },
  {
   "cell_type": "code",
   "execution_count": 66,
   "metadata": {},
   "outputs": [
    {
     "data": {
      "text/plain": [
       "[(0.038241867361545105, 'gold_diff'),\n",
       " (0.02899317445358121, 'xp_diff'),\n",
       " (0.028427131769350567, 'lh_diff'),\n",
       " (0.02500543774694663, 'dire_gold'),\n",
       " (0.023467569207126622, 'radiant_gold'),\n",
       " (0.017699761052279203, 'radiant_lh'),\n",
       " (0.01735901560284693, 'radiant_xp'),\n",
       " (0.017069439260285788, 'dire_xp'),\n",
       " (0.01639133409187874, 'dire_lh'),\n",
       " (0.012527570210256644, 'r1_gold'),\n",
       " (0.012316457311520992, 'r2_gold'),\n",
       " (0.012185923797567128, 'd2_xp'),\n",
       " (0.012078836534292101, 'r4_xp'),\n",
       " (0.012043973517657796, 'd2_gold'),\n",
       " (0.012022654103179549, 'start_time'),\n",
       " (0.012001421757278115, 'd4_gold'),\n",
       " (0.01196955372656271, 'r4_gold'),\n",
       " (0.011928400968331324, 'r5_xp'),\n",
       " (0.011926257268112188, 'match_id'),\n",
       " (0.011912672461546163, 'd1_gold')]"
      ]
     },
     "execution_count": 66,
     "metadata": {},
     "output_type": "execute_result"
    }
   ],
   "source": [
    "from sklearn.ensemble import RandomForestClassifier\n",
    "\n",
    "clf = RandomForestClassifier(n_estimators=50).fit(X_train, y_train)\n",
    "sorted(zip(clf.feature_importances_, X_train.columns), reverse=True)[:20]"
   ]
  },
  {
   "cell_type": "code",
   "execution_count": 63,
   "metadata": {},
   "outputs": [
    {
     "data": {
      "text/html": [
       "<div>\n",
       "<style scoped>\n",
       "    .dataframe tbody tr th:only-of-type {\n",
       "        vertical-align: middle;\n",
       "    }\n",
       "\n",
       "    .dataframe tbody tr th {\n",
       "        vertical-align: top;\n",
       "    }\n",
       "\n",
       "    .dataframe thead th {\n",
       "        text-align: right;\n",
       "    }\n",
       "</style>\n",
       "<table border=\"1\" class=\"dataframe\">\n",
       "  <thead>\n",
       "    <tr style=\"text-align: right;\">\n",
       "      <th></th>\n",
       "      <th>radiant_win</th>\n",
       "    </tr>\n",
       "  </thead>\n",
       "  <tbody>\n",
       "    <tr>\n",
       "      <th>radiant_win</th>\n",
       "      <td>1.000015</td>\n",
       "    </tr>\n",
       "    <tr>\n",
       "      <th>gold_diff</th>\n",
       "      <td>0.363790</td>\n",
       "    </tr>\n",
       "    <tr>\n",
       "      <th>xp_diff</th>\n",
       "      <td>0.320009</td>\n",
       "    </tr>\n",
       "    <tr>\n",
       "      <th>lh_diff</th>\n",
       "      <td>0.303785</td>\n",
       "    </tr>\n",
       "    <tr>\n",
       "      <th>radiant_gold</th>\n",
       "      <td>0.255220</td>\n",
       "    </tr>\n",
       "    <tr>\n",
       "      <th>dire_gold</th>\n",
       "      <td>0.252267</td>\n",
       "    </tr>\n",
       "    <tr>\n",
       "      <th>deaths_diff</th>\n",
       "      <td>0.247092</td>\n",
       "    </tr>\n",
       "    <tr>\n",
       "      <th>kills_diff</th>\n",
       "      <td>0.246316</td>\n",
       "    </tr>\n",
       "    <tr>\n",
       "      <th>level_diff</th>\n",
       "      <td>0.242798</td>\n",
       "    </tr>\n",
       "    <tr>\n",
       "      <th>radiant_lh</th>\n",
       "      <td>0.225694</td>\n",
       "    </tr>\n",
       "    <tr>\n",
       "      <th>dire_xp</th>\n",
       "      <td>0.223252</td>\n",
       "    </tr>\n",
       "    <tr>\n",
       "      <th>radiant_xp</th>\n",
       "      <td>0.219638</td>\n",
       "    </tr>\n",
       "    <tr>\n",
       "      <th>dire_lh</th>\n",
       "      <td>0.215468</td>\n",
       "    </tr>\n",
       "    <tr>\n",
       "      <th>radiant_deaths</th>\n",
       "      <td>0.163803</td>\n",
       "    </tr>\n",
       "    <tr>\n",
       "      <th>dire_kills</th>\n",
       "      <td>0.163743</td>\n",
       "    </tr>\n",
       "    <tr>\n",
       "      <th>radiant_kills</th>\n",
       "      <td>0.163354</td>\n",
       "    </tr>\n",
       "    <tr>\n",
       "      <th>dire_deaths</th>\n",
       "      <td>0.163222</td>\n",
       "    </tr>\n",
       "    <tr>\n",
       "      <th>first_blood_team</th>\n",
       "      <td>0.135327</td>\n",
       "    </tr>\n",
       "    <tr>\n",
       "      <th>radiant_boots_count</th>\n",
       "      <td>0.119106</td>\n",
       "    </tr>\n",
       "    <tr>\n",
       "      <th>first_blood_player1</th>\n",
       "      <td>0.116958</td>\n",
       "    </tr>\n",
       "  </tbody>\n",
       "</table>\n",
       "</div>"
      ],
      "text/plain": [
       "                     radiant_win\n",
       "radiant_win             1.000015\n",
       "gold_diff               0.363790\n",
       "xp_diff                 0.320009\n",
       "lh_diff                 0.303785\n",
       "radiant_gold            0.255220\n",
       "dire_gold               0.252267\n",
       "deaths_diff             0.247092\n",
       "kills_diff              0.246316\n",
       "level_diff              0.242798\n",
       "radiant_lh              0.225694\n",
       "dire_xp                 0.223252\n",
       "radiant_xp              0.219638\n",
       "dire_lh                 0.215468\n",
       "radiant_deaths          0.163803\n",
       "dire_kills              0.163743\n",
       "radiant_kills           0.163354\n",
       "dire_deaths             0.163222\n",
       "first_blood_team        0.135327\n",
       "radiant_boots_count     0.119106\n",
       "first_blood_player1     0.116958"
      ]
     },
     "execution_count": 63,
     "metadata": {},
     "output_type": "execute_result"
    }
   ],
   "source": [
    "pd.DataFrame(StandardScaler().fit_transform(pd.concat([X_train, y_train], axis=1)), columns=pd.concat([X_train, y_train], axis=1).columns) \\\n",
    "    .cov()[['radiant_win',]] \\\n",
    "    .abs() \\\n",
    "    .sort_values(by='radiant_win', ascending=False)[:20]"
   ]
  },
  {
   "cell_type": "markdown",
   "metadata": {},
   "source": [
    "# GradientBoostingClassifier"
   ]
  },
  {
   "cell_type": "markdown",
   "metadata": {},
   "source": [
    "## Hyperparameter tuning"
   ]
  },
  {
   "cell_type": "code",
   "execution_count": null,
   "metadata": {},
   "outputs": [],
   "source": [
    "n_estimators = range(10, 121, 10)\n",
    "\n",
    "gbc_grid = GridSearchCV(estimator=GradientBoostingClassifier(), param_grid={'n_estimators': n_estimators}, cv=5, scoring=)\n",
    "gbc_grid.fit(X_train, y_train)\n",
    "\n",
    "cv_scores = pd.DataFrame(gbc_grid.cv_results_)\n",
    "\n",
    "holdout_scores = []\n",
    "for n in n_estimators:\n",
    "    gbc_clf = GradientBoostingClassifier(n_estimators=n).fit(X_train, y_train)\n",
    "    holdout_scores.append(accuracy_score(y_holdout, gbc_clf.predict(X_holdout)))\n",
    "    \n",
    "plt.plot(n_estimators, cv_scores['mean_test_score'], label='cv');\n",
    "plt.plot(n_estimators, holdout_scores, label='holdout')\n",
    "plt.title('GradientBoostingClassifier')\n",
    "plt.legend();"
   ]
  },
  {
   "cell_type": "code",
   "execution_count": null,
   "metadata": {},
   "outputs": [],
   "source": [
    "cv_scores, holdout_scores = [], []\n",
    "n_estimators = range(10, 101, 10)\n",
    "\n",
    "for k in n_estimators:\n",
    "    gbc_clf = GradientBoostingClassifier(n_estimators=k)\n",
    "    cv_scores.append(np.mean(cross_val_score(gbc_clf, X_train, y_train, cv=5, scoring='roc_auc')))\n",
    "    gbc_clf.fit(X_train, y_train)\n",
    "    holdout_scores.append(roc_auc_score(y_holdout, gbc_clf.predict_proba(X_holdout)[:, 1]))"
   ]
  },
  {
   "cell_type": "code",
   "execution_count": 64,
   "metadata": {},
   "outputs": [
    {
     "data": {
      "image/png": "[encoded data removed]",
      "text/plain": [
       "<matplotlib.figure.Figure at 0x27d8b238240>"
      ]
     },
     "metadata": {},
     "output_type": "display_data"
    }
   ],
   "source": [
    "plt.plot(n_estimators, cv_scores, label='CV')\n",
    "plt.plot(n_estimators, holdout_scores, label='holdout')\n",
    "plt.title('GradientBoostingClassifier roc_auc')\n",
    "plt.legend();"
   ]
  },
  {
   "cell_type": "markdown",
   "metadata": {},
   "source": [
    "## Train"
   ]
  },
  {
   "cell_type": "code",
   "execution_count": 216,
   "metadata": {},
   "outputs": [],
   "source": [
    "#clf = GradientBoostingClassifier(n_estimators=30).fit(X_train, y_train)\n",
    "clf = LogisticRegression().fit(X_train, y_train)"
   ]
  },
  {
   "cell_type": "markdown",
   "metadata": {},
   "source": [
    "# LogisticRegression"
   ]
  },
  {
   "cell_type": "code",
   "execution_count": null,
   "metadata": {},
   "outputs": [],
   "source": []
  },
  {
   "cell_type": "markdown",
   "metadata": {},
   "source": [
    "## Hyperparameter tuning"
   ]
  },
  {
   "cell_type": "code",
   "execution_count": null,
   "metadata": {},
   "outputs": [],
   "source": []
  },
  {
   "cell_type": "markdown",
   "metadata": {},
   "source": [
    "## Train"
   ]
  },
  {
   "cell_type": "code",
   "execution_count": null,
   "metadata": {},
   "outputs": [],
   "source": []
  },
  {
   "cell_type": "markdown",
   "metadata": {},
   "source": [
    "# Comparison"
   ]
  },
  {
   "cell_type": "code",
   "execution_count": 31,
   "metadata": {},
   "outputs": [],
   "source": [
    "scaler = StandardScaler()\n",
    "X_scaled = scaler.fit_transform(X)\n",
    "X_scaled = pd.DataFrame(X_scaled)\n",
    "X_train, X_holdout, y_train, y_holdout = train_test_split(X_scaled, y, test_size=0.3)"
   ]
  },
  {
   "cell_type": "code",
   "execution_count": 46,
   "metadata": {},
   "outputs": [
    {
     "data": {
      "text/plain": [
       "AdaBoostClassifier(algorithm='SAMME.R', base_estimator=None,\n",
       "          learning_rate=1.0, n_estimators=50, random_state=None)"
      ]
     },
     "execution_count": 46,
     "metadata": {},
     "output_type": "execute_result"
    }
   ],
   "source": [
    "from sklearn.ensemble import AdaBoostClassifier\n",
    "svm_clf = AdaBoostClassifier()\n",
    "svm_clf.fit(X_train, y_train)"
   ]
  },
  {
   "cell_type": "code",
   "execution_count": 47,
   "metadata": {},
   "outputs": [
    {
     "data": {
      "text/plain": [
       "0.644554149953718"
      ]
     },
     "execution_count": 47,
     "metadata": {},
     "output_type": "execute_result"
    }
   ],
   "source": [
    "accuracy_score(y_holdout, svm_clf.predict(X_holdout))"
   ]
  },
  {
   "cell_type": "code",
   "execution_count": 236,
   "metadata": {},
   "outputs": [],
   "source": [
    "#plt.figure(figsize = (20,20))\n",
    "#sns.heatmap(data.corr(), cmap='viridis', annot=True)"
   ]
  },
  {
   "cell_type": "code",
   "execution_count": 221,
   "metadata": {},
   "outputs": [
    {
     "data": {
      "text/plain": [
       "0.6588844321025746"
      ]
     },
     "execution_count": 221,
     "metadata": {},
     "output_type": "execute_result"
    }
   ],
   "source": [
    "accuracy_score(y_holdout, clf.predict(X_holdout))"
   ]
  },
  {
   "cell_type": "code",
   "execution_count": 222,
   "metadata": {},
   "outputs": [
    {
     "data": {
      "text/plain": [
       "0.6648257474766711"
      ]
     },
     "execution_count": 222,
     "metadata": {},
     "output_type": "execute_result"
    }
   ],
   "source": [
    "precision_score(y_holdout, clf.predict(X_holdout))"
   ]
  },
  {
   "cell_type": "code",
   "execution_count": 223,
   "metadata": {},
   "outputs": [
    {
     "data": {
      "text/plain": [
       "0.6916066829558212"
      ]
     },
     "execution_count": 223,
     "metadata": {},
     "output_type": "execute_result"
    }
   ],
   "source": [
    "recall_score(y_holdout, clf.predict(X_holdout))"
   ]
  },
  {
   "cell_type": "code",
   "execution_count": 13,
   "metadata": {},
   "outputs": [],
   "source": [
    "X_test = pd.read_csv('../features_test.csv')"
   ]
  },
  {
   "cell_type": "code",
   "execution_count": 14,
   "metadata": {},
   "outputs": [
    {
     "data": {
      "text/plain": [
       "17177"
      ]
     },
     "execution_count": 14,
     "metadata": {},
     "output_type": "execute_result"
    }
   ],
   "source": [
    "len(X_test)"
   ]
  },
  {
   "cell_type": "code",
   "execution_count": 15,
   "metadata": {},
   "outputs": [
    {
     "data": {
      "text/html": [
       "<div>\n",
       "<style scoped>\n",
       "    .dataframe tbody tr th:only-of-type {\n",
       "        vertical-align: middle;\n",
       "    }\n",
       "\n",
       "    .dataframe tbody tr th {\n",
       "        vertical-align: top;\n",
       "    }\n",
       "\n",
       "    .dataframe thead th {\n",
       "        text-align: right;\n",
       "    }\n",
       "</style>\n",
       "<table border=\"1\" class=\"dataframe\">\n",
       "  <thead>\n",
       "    <tr style=\"text-align: right;\">\n",
       "      <th></th>\n",
       "      <th>match_id</th>\n",
       "      <th>start_time</th>\n",
       "      <th>lobby_type</th>\n",
       "      <th>r1_hero</th>\n",
       "      <th>r1_level</th>\n",
       "      <th>r1_xp</th>\n",
       "      <th>r1_gold</th>\n",
       "      <th>r1_lh</th>\n",
       "      <th>r1_kills</th>\n",
       "      <th>r1_deaths</th>\n",
       "      <th>...</th>\n",
       "      <th>radiant_ward_sentry_count</th>\n",
       "      <th>radiant_first_ward_time</th>\n",
       "      <th>dire_bottle_time</th>\n",
       "      <th>dire_courier_time</th>\n",
       "      <th>dire_flying_courier_time</th>\n",
       "      <th>dire_tpscroll_count</th>\n",
       "      <th>dire_boots_count</th>\n",
       "      <th>dire_ward_observer_count</th>\n",
       "      <th>dire_ward_sentry_count</th>\n",
       "      <th>dire_first_ward_time</th>\n",
       "    </tr>\n",
       "  </thead>\n",
       "  <tbody>\n",
       "    <tr>\n",
       "      <th>0</th>\n",
       "      <td>6</td>\n",
       "      <td>1430287923</td>\n",
       "      <td>0</td>\n",
       "      <td>93</td>\n",
       "      <td>4</td>\n",
       "      <td>1103</td>\n",
       "      <td>1089</td>\n",
       "      <td>8</td>\n",
       "      <td>0</td>\n",
       "      <td>1</td>\n",
       "      <td>...</td>\n",
       "      <td>0</td>\n",
       "      <td>12.0</td>\n",
       "      <td>247.0</td>\n",
       "      <td>-86.0</td>\n",
       "      <td>272.0</td>\n",
       "      <td>3</td>\n",
       "      <td>4</td>\n",
       "      <td>2</td>\n",
       "      <td>0</td>\n",
       "      <td>118.0</td>\n",
       "    </tr>\n",
       "    <tr>\n",
       "      <th>1</th>\n",
       "      <td>7</td>\n",
       "      <td>1430293357</td>\n",
       "      <td>1</td>\n",
       "      <td>20</td>\n",
       "      <td>2</td>\n",
       "      <td>556</td>\n",
       "      <td>570</td>\n",
       "      <td>1</td>\n",
       "      <td>0</td>\n",
       "      <td>0</td>\n",
       "      <td>...</td>\n",
       "      <td>2</td>\n",
       "      <td>-29.0</td>\n",
       "      <td>168.0</td>\n",
       "      <td>-54.0</td>\n",
       "      <td>NaN</td>\n",
       "      <td>3</td>\n",
       "      <td>2</td>\n",
       "      <td>2</td>\n",
       "      <td>1</td>\n",
       "      <td>16.0</td>\n",
       "    </tr>\n",
       "    <tr>\n",
       "      <th>2</th>\n",
       "      <td>10</td>\n",
       "      <td>1430301774</td>\n",
       "      <td>1</td>\n",
       "      <td>112</td>\n",
       "      <td>2</td>\n",
       "      <td>751</td>\n",
       "      <td>808</td>\n",
       "      <td>1</td>\n",
       "      <td>0</td>\n",
       "      <td>0</td>\n",
       "      <td>...</td>\n",
       "      <td>1</td>\n",
       "      <td>-22.0</td>\n",
       "      <td>46.0</td>\n",
       "      <td>-87.0</td>\n",
       "      <td>186.0</td>\n",
       "      <td>1</td>\n",
       "      <td>3</td>\n",
       "      <td>3</td>\n",
       "      <td>0</td>\n",
       "      <td>-34.0</td>\n",
       "    </tr>\n",
       "    <tr>\n",
       "      <th>3</th>\n",
       "      <td>13</td>\n",
       "      <td>1430323933</td>\n",
       "      <td>1</td>\n",
       "      <td>27</td>\n",
       "      <td>3</td>\n",
       "      <td>708</td>\n",
       "      <td>903</td>\n",
       "      <td>1</td>\n",
       "      <td>1</td>\n",
       "      <td>1</td>\n",
       "      <td>...</td>\n",
       "      <td>2</td>\n",
       "      <td>-49.0</td>\n",
       "      <td>30.0</td>\n",
       "      <td>-89.0</td>\n",
       "      <td>210.0</td>\n",
       "      <td>3</td>\n",
       "      <td>4</td>\n",
       "      <td>2</td>\n",
       "      <td>1</td>\n",
       "      <td>-26.0</td>\n",
       "    </tr>\n",
       "    <tr>\n",
       "      <th>4</th>\n",
       "      <td>16</td>\n",
       "      <td>1430331112</td>\n",
       "      <td>1</td>\n",
       "      <td>39</td>\n",
       "      <td>4</td>\n",
       "      <td>1259</td>\n",
       "      <td>661</td>\n",
       "      <td>4</td>\n",
       "      <td>0</td>\n",
       "      <td>0</td>\n",
       "      <td>...</td>\n",
       "      <td>0</td>\n",
       "      <td>36.0</td>\n",
       "      <td>180.0</td>\n",
       "      <td>-86.0</td>\n",
       "      <td>180.0</td>\n",
       "      <td>1</td>\n",
       "      <td>3</td>\n",
       "      <td>2</td>\n",
       "      <td>1</td>\n",
       "      <td>-33.0</td>\n",
       "    </tr>\n",
       "  </tbody>\n",
       "</table>\n",
       "<p>5 rows × 103 columns</p>\n",
       "</div>"
      ],
      "text/plain": [
       "   match_id  start_time  lobby_type  r1_hero  r1_level  r1_xp  r1_gold  r1_lh  \\\n",
       "0         6  1430287923           0       93         4   1103     1089      8   \n",
       "1         7  1430293357           1       20         2    556      570      1   \n",
       "2        10  1430301774           1      112         2    751      808      1   \n",
       "3        13  1430323933           1       27         3    708      903      1   \n",
       "4        16  1430331112           1       39         4   1259      661      4   \n",
       "\n",
       "   r1_kills  r1_deaths          ...           radiant_ward_sentry_count  \\\n",
       "0         0          1          ...                                   0   \n",
       "1         0          0          ...                                   2   \n",
       "2         0          0          ...                                   1   \n",
       "3         1          1          ...                                   2   \n",
       "4         0          0          ...                                   0   \n",
       "\n",
       "   radiant_first_ward_time  dire_bottle_time  dire_courier_time  \\\n",
       "0                     12.0             247.0              -86.0   \n",
       "1                    -29.0             168.0              -54.0   \n",
       "2                    -22.0              46.0              -87.0   \n",
       "3                    -49.0              30.0              -89.0   \n",
       "4                     36.0             180.0              -86.0   \n",
       "\n",
       "   dire_flying_courier_time  dire_tpscroll_count  dire_boots_count  \\\n",
       "0                     272.0                    3                 4   \n",
       "1                       NaN                    3                 2   \n",
       "2                     186.0                    1                 3   \n",
       "3                     210.0                    3                 4   \n",
       "4                     180.0                    1                 3   \n",
       "\n",
       "   dire_ward_observer_count  dire_ward_sentry_count  dire_first_ward_time  \n",
       "0                         2                       0                 118.0  \n",
       "1                         2                       1                  16.0  \n",
       "2                         3                       0                 -34.0  \n",
       "3                         2                       1                 -26.0  \n",
       "4                         2                       1                 -33.0  \n",
       "\n",
       "[5 rows x 103 columns]"
      ]
     },
     "execution_count": 15,
     "metadata": {},
     "output_type": "execute_result"
    }
   ],
   "source": [
    "X_test.head(5)"
   ]
  },
  {
   "cell_type": "code",
   "execution_count": 11,
   "metadata": {},
   "outputs": [
    {
     "data": {
      "text/html": [
       "<div>\n",
       "<style scoped>\n",
       "    .dataframe tbody tr th:only-of-type {\n",
       "        vertical-align: middle;\n",
       "    }\n",
       "\n",
       "    .dataframe tbody tr th {\n",
       "        vertical-align: top;\n",
       "    }\n",
       "\n",
       "    .dataframe thead th {\n",
       "        text-align: right;\n",
       "    }\n",
       "</style>\n",
       "<table border=\"1\" class=\"dataframe\">\n",
       "  <thead>\n",
       "    <tr style=\"text-align: right;\">\n",
       "      <th></th>\n",
       "      <th>match_id</th>\n",
       "      <th>radiant_win</th>\n",
       "    </tr>\n",
       "  </thead>\n",
       "  <tbody>\n",
       "    <tr>\n",
       "      <th>0</th>\n",
       "      <td>6</td>\n",
       "      <td>0.518503</td>\n",
       "    </tr>\n",
       "    <tr>\n",
       "      <th>1</th>\n",
       "      <td>7</td>\n",
       "      <td>0.518503</td>\n",
       "    </tr>\n",
       "    <tr>\n",
       "      <th>2</th>\n",
       "      <td>10</td>\n",
       "      <td>0.518503</td>\n",
       "    </tr>\n",
       "    <tr>\n",
       "      <th>3</th>\n",
       "      <td>13</td>\n",
       "      <td>0.518503</td>\n",
       "    </tr>\n",
       "    <tr>\n",
       "      <th>4</th>\n",
       "      <td>16</td>\n",
       "      <td>0.518503</td>\n",
       "    </tr>\n",
       "  </tbody>\n",
       "</table>\n",
       "</div>"
      ],
      "text/plain": [
       "   match_id  radiant_win\n",
       "0         6     0.518503\n",
       "1         7     0.518503\n",
       "2        10     0.518503\n",
       "3        13     0.518503\n",
       "4        16     0.518503"
      ]
     },
     "execution_count": 11,
     "metadata": {},
     "output_type": "execute_result"
    }
   ],
   "source": [
    "sub = pd.read_csv('../sample_submission.csv')\n",
    "sub.head()"
   ]
  },
  {
   "cell_type": "code",
   "execution_count": 56,
   "metadata": {},
   "outputs": [],
   "source": [
    "X_test.fillna(X_test.mean(), inplace=True)"
   ]
  },
  {
   "cell_type": "code",
   "execution_count": 86,
   "metadata": {},
   "outputs": [],
   "source": [
    "clf.predict_proba?"
   ]
  },
  {
   "cell_type": "code",
   "execution_count": 10,
   "metadata": {},
   "outputs": [
    {
     "data": {
      "text/plain": [
       "68061"
      ]
     },
     "execution_count": 10,
     "metadata": {},
     "output_type": "execute_result"
    }
   ],
   "source": [
    "len(X_train)"
   ]
  },
  {
   "cell_type": "code",
   "execution_count": null,
   "metadata": {},
   "outputs": [],
   "source": []
  }
 ],
 "metadata": {
  "kernelspec": {
   "display_name": "Python 3",
   "language": "python",
   "name": "python3"
  },
  "language_info": {
   "codemirror_mode": {
    "name": "ipython",
    "version": 3
   },
   "file_extension": ".py",
   "mimetype": "text/x-python",
   "name": "python",
   "nbconvert_exporter": "python",
   "pygments_lexer": "ipython3",
   "version": "3.6.4"
  }
 },
 "nbformat": 4,
 "nbformat_minor": 2
}
